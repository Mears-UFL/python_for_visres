{
 "metadata": {
  "name": "",
<<<<<<< HEAD
  "signature": "sha256:469454a18fd9cf3c8b2e9469347e4149cc43d3dfb8f480fcbc2c8549c7cacb0f"
=======
  "signature": "sha256:0e5208f18b26fa86a1f92ba73d1a33448eeb2af7eca62fdac08b4437efa8f5a2"
>>>>>>> origin/master
 },
 "nbformat": 3,
 "nbformat_minor": 0,
 "worksheets": [
  {
   "cells": [
    {
     "cell_type": "markdown",
     "metadata": {},
     "source": [
      "*Back to the main [index](index.ipynb)*"
     ]
    },
    {
     "cell_type": "heading",
     "level": 1,
     "metadata": {},
     "source": [
      "Introduction to PsychoPy for creating experiments"
     ]
    },
    {
     "cell_type": "markdown",
     "metadata": {},
     "source": [
      "*Part of the introductory series to using [Python for Vision Research](http://gestaltrevision.be/wiki/python/python) brought to you by the [GestaltReVision](http://gestaltrevision.be) group (KU Leuven, Belgium).*\n",
      "\n",
      "In this part we will capitalize on the basics you learned in Part 1 to build a real working experiment.\n",
      "\n",
      "**Authors:** Maarten Demeyer, [Jonas Kubilius](http://klab.lt)  \n",
      "**Year:** 2014  \n",
      "**Copyright:** Public Domain as in [CC0](https://creativecommons.org/publicdomain/zero/1.0/) (images used in this part are thanks to [Unsplash](http://unsplash.com/) but are in Public Domain too)"
     ]
    },
    {
     "cell_type": "heading",
     "level": 2,
     "metadata": {},
     "source": [
      "PsychoPy"
     ]
    },
    {
     "cell_type": "markdown",
     "metadata": {},
     "source": [
      "PsychoPy is a package which implements for you a bunch of useful functions for running psychological experiments, divided into several modules:\n",
      "\n",
      "* **core**: various functions\n",
      "* **data**: handles condition parameters, response registration, and order of trials\n",
      "* **visual**: handles the drawing of stimuli to the screen\n",
      "* **event**: handles keyboard input\n",
      "* **gui**: handles the creation of dialog boxes\n",
      "* ...and more, but we will not cover them here\n",
      "\n",
      "These modules will allow us to implement the missing components:\n",
      "\n",
      "* Show the session info input dialog\n",
      "* Create a window\n",
      "* Define and manipulate the stimuli\n",
      "* Define a trial loop (TrialHandler)\n",
      "* Draw stimuli onto the screen\n",
      "* Control the timing\n",
      "* Register the keyboard input\n",
      "* Quit the experiment from anywhere"
     ]
    },
    {
     "cell_type": "heading",
     "level": 2,
     "metadata": {},
     "source": [
      "Input dialog"
     ]
    },
    {
     "cell_type": "markdown",
     "metadata": {},
     "source": [
      "When you run an experiment, the first thing you probably want to do is to collect some information about the participant, such as participant ID or session number. PsychoPy provides a very simple interface for that via its [gui module](http://www.psychopy.org/api/gui.html):"
     ]
    },
    {
     "cell_type": "code",
     "collapsed": false,
     "input": [
      "from psychopy import gui\n",
      "\n",
      "exp_name = 'Change Detection'\n",
      "exp_info = {\n",
      "            'participant': '', \n",
      "            'gender': ('male', 'female'), \n",
      "            'age':'', \n",
      "            'left-handed':False \n",
      "            }\n",
      "dlg = gui.DlgFromDict(dictionary=exp_info, title=exp_name)\n",
      "\n",
      "print exp_info"
     ],
     "language": "python",
     "metadata": {},
     "outputs": []
    },
    {
     "cell_type": "markdown",
     "metadata": {},
     "source": [
      "Notice how you can make drop-down lists and tickboxes. As you can see, the `exp_info` variable gets updated after you enter information in the Dialog Box.\n",
      "\n",
      "Now try rerunning that code snippet again, provide the participant ID again, but now click *Cancel*. What happens to `exp_info`? You'll see that `exp_info` is still updated. This is not a desired outcome so we need to improve our code to quit the experiment if *Cancel* is clicked."
     ]
    },
    {
     "cell_type": "code",
     "collapsed": false,
     "input": [
      "from psychopy import gui\n",
      "\n",
      "exp_name = 'Change Detection'\n",
      "exp_info = {\n",
      "            'participant': '', \n",
      "            'gender': ('male', 'female'), \n",
      "            'age':'', \n",
      "            'left-handed':False \n",
      "            }\n",
      "dlg = gui.DlgFromDict(dictionary=exp_info, title=exp_name)\n",
      "\n",
      "if dlg.OK == False:\n",
      "    core.quit()  # user pressed cancel, so we quit"
     ],
     "language": "python",
     "metadata": {},
     "outputs": []
    },
    {
     "cell_type": "markdown",
     "metadata": {},
     "source": [
      "Since `exp_info` is a simple *dict*, you can store any information you like in it, e.g.:"
     ]
    },
    {
     "cell_type": "code",
     "collapsed": false,
     "input": [
      "exp_info['exp_name'] = exp_name"
     ],
     "language": "python",
     "metadata": {},
     "outputs": []
    },
    {
     "cell_type": "markdown",
     "metadata": {},
     "source": [
      "You may also want to record **date and time** when the experiment took place. PsychoPy provides a simple date stamp in its [data module](http://www.psychopy.org/api/data.html):"
     ]
    },
    {
     "cell_type": "code",
     "collapsed": false,
     "input": [
      "from psychopy import data\n",
      "\n",
      "exp_info['date'] = data.getDateStr()"
     ],
     "language": "python",
     "metadata": {},
     "outputs": []
    },
    {
     "cell_type": "heading",
     "level": 2,
     "metadata": {},
     "source": [
      "Window"
     ]
    },
    {
     "cell_type": "markdown",
     "metadata": {},
     "source": [
      "All stimuli in your experiment will be displayed on a single **window**. You could have more windows if you like (for a stereo setup, for example) but usually we only need one window which is defined by a [Window class](http://www.psychopy.org/api/visual/window.html) in PsychoPy's [visual module](http://www.psychopy.org/api/visual.html). Below is how you open a window but don't run this cell:"
     ]
    },
    {
     "cell_type": "code",
     "collapsed": false,
     "input": [
      "# DON'T RUN THIS\n",
      "from psychopy import visual\n",
      "\n",
      "visual.Window()  # don't run this line"
     ],
     "language": "python",
     "metadata": {},
     "outputs": []
    },
    {
     "cell_type": "markdown",
     "metadata": {},
     "source": [
      "Had you gone ahead and opened a window right now, you would have see it wouldn't close nicely. In fact, given its purpose to show stimuli, the window is expected to be created, displayed for a certain period of time, and then close. To define its duration, we can use the **wait** function for PsychoPy's [core module](http://www.psychopy.org/api/core.html). After this time is up, we simply **close** the window:"
     ]
    },
    {
     "cell_type": "code",
     "collapsed": false,
     "input": [
      "from psychopy import visual, core\n",
      "\n",
      "win = visual.Window()\n",
      "core.wait(3)  # seconds\n",
      "win.close()"
     ],
     "language": "python",
     "metadata": {},
     "outputs": []
    },
    {
     "cell_type": "markdown",
     "metadata": {},
     "source": [
      "Windows have several parameters that we can manipulate. Try running the following examples and observed what is changing."
     ]
    },
    {
     "cell_type": "code",
     "collapsed": false,
     "input": [
      "win = visual.Window(size=(1200,800), color='white')\n",
      "core.wait(3)\n",
      "win.close()"
     ],
     "language": "python",
     "metadata": {},
     "outputs": []
    },
    {
     "cell_type": "code",
     "collapsed": false,
     "input": [
      "win = visual.Window(fullscr=True)\n",
      "core.wait(3)\n",
      "win.close()"
     ],
     "language": "python",
     "metadata": {},
     "outputs": []
    },
    {
     "cell_type": "markdown",
     "metadata": {},
     "source": [
      "One final useful parameter is `units` which controls the units you use to define stimuli size. In this experiment, we simply pass `units='pix'` which means that (by default) you define stimulus size in pixels. If you fail to define units, there may be problems later in drawing stimuli. However, often we want to define stimuli in terms of their size in degrees visual angle. In that case, we would give `units='deg'` to the Window class. This not sufficient though because PsychoPy needs to know the size of your screen and participant's distance from it. These parameters are stored in the [Monitor Center](http://www.psychopy.org/general/monitors.html) and can be accessed by creating a monitor. We will not cover this procedure here but you can [read more about units here](http://www.psychopy.org/general/units.html#units)."
     ]
    },
    {
     "cell_type": "heading",
     "level": 2,
     "metadata": {},
     "source": [
      "Stimuli"
     ]
    },
    {
     "cell_type": "markdown",
     "metadata": {},
     "source": [
      "PsychoPy allows to draw many kinds of stimuli: geometric shapes, images, gratings, element arrays, text, and even movies. You can see all possibilities listed in the [visual module](http://www.psychopy.org/api/visual.html); in this tutorial, we will draw [images](http://www.psychopy.org/api/visual/simpleimagestim.html), [text](http://www.psychopy.org/api/visual/textstim.html) and [circles](http://www.psychopy.org/api/visual/circle.html).\n",
      "\n",
      "In general, you first create an object for each kind of stimulus, and as you go into experimental loop, their properties are manipulated to show different stimuli on each trial. Note how this is a different strategy from creating one object per stimulus we want to show. In our experiment, for example, we have 12 images to show. We could create 12 image objects, each storing a different image, but that's inefficient and inelegant. In fact, we only need one bitmap object defined upfront, and we will be updating which image is shown by updating the image file path of this bitmap object."
     ]
    },
    {
     "cell_type": "heading",
     "level": 3,
     "metadata": {},
     "source": [
      "Image"
     ]
    },
    {
     "cell_type": "markdown",
     "metadata": {},
     "source": [
      "Let's draw an image on our window. Images are displayed using [SimpleImageStim](http://www.psychopy.org/api/visual/simpleimagestim.html) At the very least, you need to supply two arguments to create an image instance: the **window** where the image has to be drawn and the **path** to the image file:"
     ]
    },
    {
     "cell_type": "code",
     "collapsed": false,
     "input": [
      "from psychopy import visual, core\n",
      "win = visual.Window(size=(1200,800), color='white', units='pix')\n",
      "bitmap = visual.SimpleImageStim(win, 'images/1a.jpg')\n",
      "core.wait(3)\n",
      "win.close()"
     ],
     "language": "python",
     "metadata": {},
     "outputs": []
    },
    {
     "cell_type": "markdown",
     "metadata": {},
     "source": [
      "But where is the image? The thing is that the `bitmap` object was created but it has yet to be **drawn** on the window for us to see."
     ]
    },
    {
     "cell_type": "code",
     "collapsed": false,
     "input": [
      "win = visual.Window(size=(1200,800), color='white', units='pix')\n",
      "bitmap = visual.SimpleImageStim(win, 'images/1a.jpg')\n",
      "bitmap.draw()\n",
      "core.wait(3)\n",
      "win.close()"
     ],
     "language": "python",
     "metadata": {},
     "outputs": []
    },
    {
     "cell_type": "markdown",
     "metadata": {},
     "source": [
      "Still nothing... Here is one more thing to learn: stimuli are drawn on the *back* buffer and this buffer screen needs to be brought to the front to be seen. Think about it as always having two screens: *front* (the one you a currently seeing) and *back* (the one drawn in the background and not yet seen). What you want to do is to **flip** the back screen up front, which is conveniently done using `win.flip()` command.\n",
      "\n",
      "*(Wondering why we need these two buffers? The idea is to increase the performance. Drawing stimuli might take a long time but flipping between drawn screens is fast. Here PsychoPy cleverly allows you to draw next stimuli while the current ones are still on the screen.)*"
     ]
    },
    {
     "cell_type": "code",
     "collapsed": false,
     "input": [
      "win = visual.Window(size=(1200,800), color='white', units='pix')\n",
      "bitmap = visual.SimpleImageStim(win, 'images/1a.jpg')\n",
      "bitmap.draw()  # draw bitmap on the window\n",
      "win.flip()  # make bitmap visible\n",
      "core.wait(3)\n",
      "win.close()"
     ],
     "language": "python",
     "metadata": {},
     "outputs": []
    },
    {
     "cell_type": "heading",
     "level": 3,
     "metadata": {},
     "source": [
      "Geometric shapes"
     ]
    },
    {
     "cell_type": "markdown",
     "metadata": {},
     "source": [
      "You can draw various geometric shapes using PsychoPy's [ShapeStim class](http://www.psychopy.org/api/visual/shapestim.html). However, several common shapes are available immediately; here is an example of drawing a black [circle](http://www.psychopy.org/api/visual/circle.html) which we need to create the bubbles in our experiment:"
     ]
    },
    {
     "cell_type": "code",
     "collapsed": false,
     "input": [
      "win = visual.Window(size=(1200,800), color='white', units='pix')\n",
      "bubble = visual.Circle(win, fillColor='black', lineColor='black', radius=30)\n",
      "bubble.draw()\n",
      "win.flip()\n",
      "core.wait(3)  # seconds\n",
      "win.close()"
     ],
     "language": "python",
     "metadata": {},
     "outputs": []
    },
    {
     "cell_type": "heading",
     "level": 3,
     "metadata": {},
     "source": [
      "Text"
     ]
    },
    {
     "cell_type": "markdown",
     "metadata": {},
     "source": [
      "Text stimulus is created using the [TextStim class](http://www.psychopy.org/api/visual/textstim.html). It behaves just like other stimuli but, of course, font size and so on can be manipulated:"
     ]
    },
    {
     "cell_type": "code",
     "collapsed": false,
     "input": [
      "win = visual.Window(size=(1200,800), color='white', units='pix')\n",
      "text = visual.TextStim(win, text='Press spacebar to start the trial', color='red', height=20)\n",
      "text.draw()\n",
      "win.flip()\n",
      "core.wait(3)  # seconds\n",
      "win.close()"
     ],
     "language": "python",
     "metadata": {},
     "outputs": []
    },
    {
     "cell_type": "heading",
     "level": 2,
     "metadata": {},
     "source": [
      "Keyboard input"
     ]
    },
    {
     "cell_type": "markdown",
     "metadata": {},
     "source": [
      "Now that we have a text stimulus on the screen that says \"Press space to start the trial\", let's learn how to register user input. PsychoPy provides a simple interface to wait for a key press in the [event module](http://www.psychopy.org/api/event.html):"
     ]
    },
    {
     "cell_type": "code",
     "collapsed": false,
     "input": [
      "from psychopy import visual, core, event\n",
      "\n",
      "win = visual.Window(size=(1200,800), color='white', units='pix')\n",
      "text = visual.TextStim(win, text='Press spacebar to start the trial', color='red', height=20)\n",
      "text.draw()\n",
      "win.flip()\n",
      "\n",
      "keys = event.waitKeys(keyList=['space', 'escape'])\n",
      "print keys\n",
      "\n",
      "if 'escape' in keys:\n",
      "    win.close()\n",
      "else:\n",
      "    print 'Start of the trial'\n",
      "    win.close()"
     ],
     "language": "python",
     "metadata": {},
     "outputs": []
    },
    {
     "cell_type": "heading",
     "level": 2,
     "metadata": {},
     "source": [
      "Running experiment"
     ]
    },
    {
     "cell_type": "heading",
     "level": 3,
     "metadata": {},
     "source": [
      "Dynamic manipulation of stimuli properties"
     ]
    },
    {
     "cell_type": "markdown",
     "metadata": {},
     "source": [
      "In our experiment, images are changing once in a while. To update which image is shown, we use `setImage` command:"
     ]
    },
    {
     "cell_type": "code",
     "collapsed": false,
     "input": [
      "from psychopy import visual, core\n",
      "\n",
      "win = visual.Window(size=(1200,800), color='white', units='pix')\n",
      "                    \n",
      "bitmap = visual.SimpleImageStim(win, 'images/1a.jpg')\n",
      "bitmap.draw()  # draw bitmap on the window\n",
      "win.flip()  # make bitmap visible\n",
      "core.wait(3)\n",
      "\n",
      "bitmap.setImage('images/1b.jpg')\n",
      "bitmap.draw()\n",
      "win.flip()\n",
      "\n",
      "core.wait(3)\n",
      "win.close()"
     ],
     "language": "python",
     "metadata": {},
     "outputs": []
    },
    {
     "cell_type": "heading",
     "level": 3,
     "metadata": {},
     "source": [
      "During the trial"
     ]
    },
    {
     "cell_type": "markdown",
     "metadata": {},
     "source": [
      "Now we actually want to have the images flip back and forth continuously, so we need a **loop**:"
     ]
    },
    {
     "cell_type": "code",
     "collapsed": false,
     "input": [
      "from psychopy import visual, core\n",
      "\n",
      "win = visual.Window(size=(1200,800), color='white', units='pix')\n",
      "bitmap = visual.SimpleImageStim(win, 'images/1a.jpg')\n",
      "\n",
      "for i in range(5):\n",
      "    bitmap.setImage('images/1a.jpg')\n",
      "    bitmap.draw()  # draw bitmap on the window\n",
      "    win.flip()  # make bitmap visible\n",
      "    core.wait(.5)\n",
      "\n",
      "    bitmap.setImage('images/1b.jpg')\n",
      "    bitmap.draw()\n",
      "    win.flip()\n",
      "    core.wait(.5)\n",
      "    \n",
      "win.close()"
     ],
     "language": "python",
     "metadata": {},
     "outputs": []
    },
    {
     "cell_type": "markdown",
     "metadata": {},
     "source": [
      "However, notice that we are not very efficient here: many commands are implemented twice. We can do better, and should always strive for more elegance in Python:"
     ]
    },
    {
     "cell_type": "code",
     "collapsed": false,
     "input": [
      "from psychopy import visual, core\n",
      "\n",
      "win = visual.Window(size=(1200,800), color='white', units='pix')\n",
      "bitmap = visual.SimpleImageStim(win, 'images/1a.jpg')\n",
      "\n",
      "for i in range(10):  # note that we now need 10, not 5 iterations\n",
      "    # change the bitmap\n",
      "    if bitmap.image == 'images/1a.jpg':\n",
      "        bitmap.setImage('images/1b.jpg')\n",
      "    else:\n",
      "        bitmap.setImage('images/1a.jpg')\n",
      "    bitmap.draw()\n",
      "    win.flip()\n",
      "    core.wait(.5)\n",
      "win.close()"
     ],
     "language": "python",
     "metadata": {},
     "outputs": []
    },
    {
     "cell_type": "heading",
     "level": 3,
     "metadata": {},
     "source": [
      "Get participant input"
     ]
    },
    {
     "cell_type": "markdown",
     "metadata": {},
     "source": [
      "So far we had the loop continue for a fixed number of iterations. However, the actual experiment requires participants to hit a space bar to indicate that they saw a change, meaning that the stimuli have to be flipping until the response and not for a fixed number of times. So that's a **while** loop. Also, the trial should stop after 30 seconds if no response was made. Thus, we need to implement two things: input registration and clocks to count time.\n",
      "\n",
      "For input registration, remember that we used **event.waitKeys** before. We can try to use it here as well.\n",
      "\n",
      "For timing, PsychoPy provides a **core.Clock** class. You can have as many clocks as you like and start them with a *clock.reset()* command. In our case, we can start a clock right away and when it reaches the time limit, just exit the while loop.\n",
      "\n",
      "Putting these ideas together we arrive to the following code:"
     ]
    },
    {
     "cell_type": "code",
     "collapsed": false,
     "input": [
      "from psychopy import visual, core, event\n",
      "\n",
      "win = visual.Window(size=(1200,800), color='white', units='pix')\n",
      "bitmap = visual.SimpleImageStim(win, 'images/1a.jpg')\n",
      "\n",
      "# Initialize clock to register response time\n",
      "rt_clock = core.Clock()\n",
      "rt_clock.reset()  # set rt clock to 0\n",
      "done = False\n",
      "\n",
      "# Empty the keypresses list\n",
      "keys = []\n",
      "\n",
      "# Start the trial\n",
      "# Stop trial if spacebar or escape has been pressed, or if 30s have passed\n",
      "while not keys and rt_clock.getTime() < 30:\n",
      "    \n",
      "    # Switch the image\n",
      "    if bitmap.image == 'images/1a.jpg':\n",
      "        bitmap.setImage('images/1b.jpg')\n",
      "    else:\n",
      "        bitmap.setImage('images/1a.jpg')\n",
      "    bitmap.draw()\n",
      "    \n",
      "    # Show the new screen we've drawn\n",
      "    win.flip()\n",
      "        \n",
      "    # For 0.5s, listen for a spacebar or escape press\n",
      "    keys = event.waitKeys(maxWait=.5, keyList=['space', 'escape'], timeStamped=rt_clock)\n",
      "    print keys\n",
      "    \n",
      "win.close()"
     ],
     "language": "python",
     "metadata": {},
     "outputs": []
    },
    {
     "cell_type": "markdown",
     "metadata": {},
     "source": [
      "Note how we added `timeStamped=rt_clock` in `event.waitKeys`. The effect is that the returned keys also contain time when they were pressed according to the particular clock we supplied.\n",
      "\n",
      "There is also an alternative for recording user inputs using a while-loop:"
     ]
    },
    {
     "cell_type": "code",
     "collapsed": false,
     "input": [
      "# DON'T RUN THIS\n",
      "change_clock = core.Clock()\n",
      "\n",
      "# Empty the keypresses list\n",
      "keys = []\n",
      "\n",
      "# Start the trial\n",
      "# Stop trial if spacebar or escape has been pressed, or if 30s have passed\n",
      "while not keys and rt_clock.getTime() < 30:\n",
      "    ...\n",
      "    # For 0.5s, listen for a spacebar or escape press\n",
      "    change_clock.reset()\n",
      "    while change_clock.getTime() <=.5:\n",
      "        keys = event.getKeys(keyList=['space', 'escape'])\n",
      "        if keys:\n",
      "            break"
     ],
     "language": "python",
     "metadata": {},
     "outputs": []
    },
    {
     "cell_type": "markdown",
     "metadata": {},
     "source": [
      "This approach is useful in scenarios where trials occur non-stop, i.e. there is no waiting for user response. For example, in fMRI experiments, trial onsets must be time-locked such that their onsets are in sync with scanner. In such paradigms we want to make sure that a trial ends just in time. Now you may think that it does so with **event.waitKeys** too (since we set `maxWait=.5`) but the harsh truth is that this waiting starts only *after* stimuli are drawn. So if it took the computer 20 ms to draw the stimuli, the total trial duration will be 520 ms instead of 500 ms. These tiny offsets accumulate quickly so one idea is to constantly check trial and global timing using these while-loops and end as soon as necessary as counted from the *beginning* of a trial.\n",
      "\n",
      "I find the while-loop approach to be more robust so in our experiment we use this method."
     ]
    },
    {
     "cell_type": "heading",
     "level": 3,
     "metadata": {},
     "source": [
      "Draw bubbles"
     ]
    },
    {
     "cell_type": "markdown",
     "metadata": {},
     "source": [
      "Now we also need to put some bubbles on top of the image. Also, these bubbles should be changing their size and positions, so here is the bit that controls these parameters (you'll have to insert that in the while loop in the snippet above if you want to test it):"
     ]
    },
    {
     "cell_type": "code",
     "collapsed": false,
     "input": [
      "# DON'T RUN THIS\n",
      "# Draw bubbles of increasing radius at random positions                \n",
      "for radius in range(n_bubbles):\n",
      "    bubble.setRadius(radius)\n",
      "    bubble.setPos(((rnd.random()-.5) * scrsize[0],\n",
      "                   (rnd.random()-.5) * scrsize[1] ))\n",
      "    bubble.draw()"
     ],
     "language": "python",
     "metadata": {},
     "outputs": []
    },
    {
     "cell_type": "heading",
     "level": 3,
     "metadata": {},
     "source": [
      "End of trial"
     ]
    },
    {
     "cell_type": "markdown",
     "metadata": {},
     "source": [
      "At the end of a trial, we check if the participant actually responded (the `keys` list shouldn't be empty). If not, that means the time limit was reached."
     ]
    },
    {
     "cell_type": "code",
     "collapsed": false,
     "input": [
      "# DON'T RUN THIS\n",
      "# Analyze the keypress\n",
      "if keys:\n",
      "    if 'escape' in keys:\n",
      "        # Escape press = quit the experiment\n",
      "        break\n",
      "    else:\n",
      "        # Spacebar press = correct change detection; register response time\n",
      "        acc = 1\n",
      "        rt = rt_clock.getTime()   \n",
      "else:\n",
      "    # No press = failed change detection; maximal response time\n",
      "    acc = 0\n",
      "    rt = timelimit"
     ],
     "language": "python",
     "metadata": {},
     "outputs": []
    },
    {
     "cell_type": "markdown",
     "metadata": {},
     "source": [
      "Trial loop"
     ]
    },
    {
     "cell_type": "markdown",
     "metadata": {},
     "source": [
      "Finally, we have to wrap this into a trial loop:"
     ]
    },
    {
     "cell_type": "code",
     "collapsed": false,
     "input": [
      "# DON'T RUN THIS\n",
      "# Display the start message\n",
      "start_message.draw()\n",
      "win.flip()\n",
      "\n",
      "# Start the main loop that goes through all trials\n",
      "for trial in trials:\n",
      "    \n",
      "    # Wait for spacebar press to start (or escape to quit)\n",
      "    keys = event.waitKeys(keyList=['space', 'escape'])\n",
      "\n",
      "    # Set the images, set the orientation\n",
      "    im_fname = os.path.join(impath, trial['im'])\n",
      "    bitmap1.setImage(im_fname + asfx)\n",
      "    bitmap1.setFlipHoriz(trial['ori'])\n",
      "    bitmap2.setImage(im_fname + bsfx)\n",
      "    bitmap2.setFlipHoriz(trial['ori'])\n",
      "    \n",
      "    # Show stimuli, collect responses\n",
      "    # ..."
     ],
     "language": "python",
     "metadata": {},
     "outputs": []
    },
    {
     "cell_type": "heading",
     "level": 2,
     "metadata": {},
     "source": [
      "Code advancement: Final"
     ]
    },
    {
     "cell_type": "markdown",
     "metadata": {},
     "source": [
      "Below is the full code for the experiment with the discussed PsychoPy functions added to the *Code advancement 3*"
     ]
    },
    {
     "cell_type": "code",
     "collapsed": false,
     "input": [
      "#===============\n",
      "# Import modules\n",
      "#===============\n",
      "\n",
      "import os                           # for file/folder operations\n",
      "import numpy.random as rnd          # for random number generators\n",
      "from psychopy import visual, event, core, gui, data\n",
      "\n",
      "\n",
      "#==============================================\n",
      "# Settings that we might want to tweak later on\n",
      "#==============================================\n",
      "\n",
      "datapath = 'data'                   # directory to save data in\n",
      "impath = 'images'                   # directory where images can be found\n",
      "imlist = ['1','2','3','4','5','6']  # image names without the suffixes\n",
      "asfx = 'a.jpg'                      # suffix for the first image\n",
      "bsfx = 'b.jpg'                      # suffix for the second image\n",
      "scrsize = (1200,800)                # screen size in pixels\n",
      "timelimit = 30                      # image freezing time in seconds\n",
      "changetime = .5                     # image changing time in seconds\n",
      "n_bubbles = 40                      # number of bubbles overlayed on the image\n",
      "\n",
      "\n",
      "#========================================\n",
      "# Store info about the experiment session\n",
      "#========================================\n",
      "\n",
      "# Get subject name, gender, age, handedness through a dialog box\n",
      "exp_name = 'Change Detection'\n",
      "exp_info = {\n",
      "            'participant': '', \n",
      "            'gender': ('male', 'female'), \n",
      "            'age':'', \n",
      "            'left-handed':False \n",
      "            }\n",
      "dlg = gui.DlgFromDict(dictionary=exp_info, title=exp_name)\n",
      "\n",
      "# If 'Cancel' is pressed, quit\n",
      "if dlg.OK == False:\n",
      "    core.quit()\n",
      "\n",
      "# Get date and time\n",
      "exp_info['date'] = data.getDateStr()\n",
      "exp_info['exp_name'] = exp_name\n",
      "\n",
      "# Create a unique filename for the experiment data\n",
      "if not os.path.isdir(datapath):\n",
      "    os.makedirs(datapath)\n",
      "data_fname = exp_info['participant'] + '_' + exp_info['date']\n",
      "data_fname = os.path.join(datapath, data_fname)\n",
      "\n",
      "\n",
      "#========================\n",
      "# Prepare condition lists\n",
      "#========================\n",
      "\n",
      "# Check if all images exist\n",
      "for im in imlist:\n",
      "    if (not os.path.exists(os.path.join(impath, im+asfx)) or\n",
      "        not os.path.exists(os.path.join(impath, im+bsfx))):\n",
      "        raise Exception('Image files not found in image folder: ' + str(im)) \n",
      "        \n",
      "# Randomize the image order\n",
      "rnd.shuffle(imlist)\n",
      "\n",
      "# Create the orientations list: half upright, half inverted\n",
      "orilist = [0,1]*(len(imlist)/2)\n",
      "\n",
      "# Randomize the orientation order\n",
      "rnd.shuffle(orilist)\n",
      "\n",
      "\n",
      "#===============================\n",
      "# Creation of window and stimuli\n",
      "#===============================\n",
      "\n",
      "# Open a window\n",
      "win = visual.Window(size=scrsize, color='white', units='pix', fullscr=False)\n",
      "\n",
      "# Define trial start text\n",
      "start_message = visual.TextStim(win,\n",
      "                                text=\"Press spacebar to start the trial. Hit spacebar again when you detect a change.\",\n",
      "                                color='red', height=20)\n",
      "\n",
      "# Define two bitmap stimuli (contents can still change)\n",
      "bitmap1 = visual.SimpleImageStim(win, \n",
      "                                 image=os.path.join(impath, imlist[0]+asfx))\n",
      "bitmap2 = visual.SimpleImageStim(win, \n",
      "                                 image=os.path.join(impath, imlist[0]+bsfx))\n",
      "                                \n",
      "# Define a bubble (position and size can still change)\n",
      "bubble = visual.Circle(win, fillColor='black', lineColor='black')\n",
      "\n",
      "\n",
      "#==========================\n",
      "# Define the trial sequence\n",
      "#==========================\n",
      "\n",
      "# Define a list of trials with their properties:\n",
      "#   - Which image (without the suffix)\n",
      "#   - Which orientation\n",
      "stim_order = []\n",
      "for im, ori in zip(imlist, orilist):\n",
      "    stim_order.append({'im': im, 'ori': ori})\n",
      "\n",
      "trials = data.TrialHandler(stim_order, nReps=1, extraInfo=exp_info,\n",
      "                           method='sequential', originPath=datapath)\n",
      "\n",
      "\n",
      "#=====================\n",
      "# Start the experiment\n",
      "#=====================\n",
      "\n",
      "# Initialize two clocks:\n",
      "#   - for image change time\n",
      "#   - for response time\n",
      "change_clock = core.Clock()\n",
      "rt_clock = core.Clock()\n",
      "\n",
      "# Run through the trials\n",
      "for trial in trials:\n",
      "    \n",
      "    # Display trial start text\n",
      "    start_message.draw()\n",
      "    win.flip()\n",
      "    \n",
      "    # Wait for a spacebar press to start the trial, or escape to quit\n",
      "    keys = event.waitKeys(keyList=['space', 'escape'])\n",
      "\n",
      "    # Set the images, set the orientation\n",
      "    im_fname = os.path.join(impath, trial['im'])\n",
      "    bitmap1.setImage(im_fname + asfx)\n",
      "    bitmap1.setFlipHoriz(trial['ori'])\n",
      "    bitmap2.setImage(im_fname + bsfx)\n",
      "    bitmap2.setFlipHoriz(trial['ori'])\n",
      "    bitmap = bitmap1\n",
      "\n",
      "    # Set the clocks to 0\n",
      "    change_clock.reset()\n",
      "    rt_clock.reset()\n",
      "\n",
      "    # Empty the keypresses list\n",
      "    # Leave an 'escape' press in for immediate exit\n",
      "    if 'space' in keys:\n",
      "        keys = []  \n",
      "    \n",
      "    # Start the trial\n",
      "    # Stop trial if spacebar or escape has been pressed, or if 30s have passed\n",
      "    while not keys and rt_clock.getTime() < timelimit: \n",
      "        \n",
      "        # Switch the image\n",
      "        if bitmap == bitmap1:\n",
      "            bitmap = bitmap2\n",
      "        else:\n",
      "            bitmap = bitmap1\n",
      "        \n",
      "        bitmap.draw()\n",
      "\n",
      "        # Draw bubbles of increasing radius at random positions                \n",
      "        for radius in range(n_bubbles):\n",
      "            bubble.setRadius(radius)\n",
      "            bubble.setPos(((rnd.random()-.5) * scrsize[0],\n",
      "                           (rnd.random()-.5) * scrsize[1] ))\n",
      "            bubble.draw()\n",
      "\n",
      "        # Show the new screen we've drawn\n",
      "        win.flip()\n",
      "        \n",
      "        # For the duration of 'changetime',\n",
      "        # Listen for a spacebar or escape press\n",
      "        change_clock.reset()\n",
      "        while change_clock.getTime() <= changetime:\n",
      "            keys = event.getKeys(keyList=['space','escape'])\n",
      "            if keys:\n",
      "                break\n",
      "\n",
      "    # Analyze the keypress\n",
      "    if keys:\n",
      "        if 'escape' in keys:\n",
      "            # Escape press = quit the experiment\n",
      "            break\n",
      "        else:\n",
      "            # Spacebar press = correct change detection; register response time\n",
      "            acc = 1\n",
      "            rt = rt_clock.getTime()            \n",
      "            \n",
      "    else:\n",
      "        # No press = failed change detection; maximal response time\n",
      "        acc = 0\n",
      "        rt = timelimit\n",
      "    \n",
      "        \n",
      "    # Add the current trial's data to the TrialHandler\n",
      "    trials.addData('rt', rt)\n",
      "    trials.addData('acc', acc)\n",
      "    \n",
      "    # Advance to the next trial\n",
      "  \n",
      "  \n",
      "#======================\n",
      "# End of the experiment\n",
      "#======================\n",
      "\n",
      "# Save all data to a file\n",
      "trials.saveAsWideText(data_fname + '.csv', delim=',')\n",
      "\n",
      "# Quit the experiment\n",
      "win.close()"
     ],
     "language": "python",
     "metadata": {},
<<<<<<< HEAD
     "outputs": []
=======
     "outputs": [
      {
       "ename": "SystemExit",
       "evalue": "0",
       "output_type": "pyerr",
       "traceback": [
        "An exception has occurred, use %tb to see the full traceback.\n",
        "\u001b[1;31mSystemExit\u001b[0m\u001b[1;31m:\u001b[0m 0\n"
       ]
      },
      {
       "output_type": "stream",
       "stream": "stderr",
       "text": [
        "To exit: use 'exit', 'quit', or Ctrl-D.\n"
       ]
      }
     ],
     "prompt_number": 1
>>>>>>> origin/master
    },
    {
     "cell_type": "markdown",
     "metadata": {},
     "source": [
      "## "
     ]
    }
   ],
   "metadata": {}
  }
 ]
}