{
 "metadata": {
  "name": "",
  "signature": "sha256:1f4f5d3a443f6ec71a5e416d861ee1339aea23aadf980f493477eaaef43fb39b"
 },
 "nbformat": 3,
 "nbformat_minor": 0,
 "worksheets": [
  {
   "cells": [
    {
     "cell_type": "markdown",
     "metadata": {},
     "source": [
      "*Back to the main [index](index.ipynb)*"
     ]
    },
    {
     "cell_type": "heading",
     "level": 1,
     "metadata": {},
     "source": [
      "Multivariate pattern analysis with PyMVPA"
     ]
    },
    {
     "cell_type": "markdown",
     "metadata": {},
     "source": [
      "*Part of the introductory series [Python for Vision Researchers](http://gestaltrevision.be/wiki/python/python) brought to you by the [GestaltReVision](http://gestaltrevision.be) group (KU Leuven, Belgium).*\n",
      "\n",
      "In this part we discuss how to conduct multivariate pattern analysis on your fMRI data using PyMVPA, wrapped by the `psychopy_ext.fmri` module.\n",
      "\n",
      "\n",
      "**Author:** [Jonas Kubilius](http://klab.lt)  \n",
      "**Year:** 2014  \n",
      "**Copyright:** Public Domain as in [CC0](https://creativecommons.org/publicdomain/zero/1.0/)"
     ]
    },
    {
     "cell_type": "heading",
     "level": 1,
     "metadata": {},
     "source": [
      "Contents"
     ]
    },
    {
     "cell_type": "markdown",
     "metadata": {},
     "source": [
      "- [Multivariate pattern analysis with PyMVPA](#Multivariate-pattern-analysis-with-PyMVPA)\n",
      "- [Contents](#Contents)\n",
      "- [Why use multivariate pattern analysis?](#Why-use-multivariate-pattern-analysis?)\n",
      "  - [Conventional (univariate) fMRI analysis](#Conventional-%28univariate%29-fMRI-analysis)\n",
      "  - [Multivariate pattern analysis (MVPA)](#Multivariate-pattern-analysis-%28MVPA%29)\n",
      "  - [Why does it work?](#Why-does-it-work?)\n",
      "- [Explore the signal](#Explore-the-signal)\n",
      "  - [Setup](#Setup)\n",
      "  - [Data preprocessing](#Data-preprocessing)\n",
      "  - [Statistical model specification](#Statistical-model-specification)\n",
      "  - [Region of interest (ROI) definition](#Region-of-interest-%28ROI%29-definition)\n",
      "  - [Detrending](#Detrending)\n",
      "  - [Timecourse of the signal](#Timecourse-of-the-signal)\n",
      "- [Correlational analyses](#Correlational-analyses)\n",
      "  - [Normalization and averaging](#Normalization-and-averaging)\n",
      "  - [Training and testing sets](#Training-and-testing-sets)\n",
      "  - [Cross-validation](#Cross-validation)\n",
      "- [Support vector machines](#Support-vector-machines)\n",
      "  - [Introduction](#Introduction)\n",
      "  - [Setup](#Setup)\n",
      "  - [Data separation problem](#Data-separation-problem)\n",
      "  - [Is that the *true* separation boundary?](#Is-that-the-true-separation-boundary?)\n",
      "  - [SVM on our data](#SVM-on-our-data)\n",
      "  - [Training and testing sets](#Training-and-testing-sets)\n",
      "  - [Cross-validation](#Cross-validation)\n",
      "  - [Nonlinear classifiers](#Nonlinear-classifiers)"
     ]
    },
    {
     "cell_type": "heading",
     "level": 1,
     "metadata": {},
     "source": [
      "Why use multivariate pattern analysis?"
     ]
    },
    {
     "cell_type": "heading",
     "level": 2,
     "metadata": {},
     "source": [
      "Conventional (univariate) fMRI analysis"
     ]
    },
    {
     "cell_type": "markdown",
     "metadata": {},
     "source": [
      "So you all know how a typical functional magnetic resonance imaging (fMRI) analysis goes like. You first collect some data, such as brain responses to faces, houses, objects, and bodies (as in Kanwisher et al., 1997), then use one half of the data to define a region of interest (ROI) using a particular contrast -- care about faces? good, take faces>objects -- then use the other half to check what it responds mostly to. (Why split data in half like this? Avoiding the double-dip issue here, see [Kriegeskorte et al. (2009)](http://dx.doi.org/10.1038/nn.2303) for details.) If you chose the biggest blob in the fusiform gyrus as your ROI, you'll see that it responds twice as much to faces than to other stimuli. Congrats, you've got the fusiform face area (FFA) in your hands."
     ]
    },
    {
     "cell_type": "heading",
     "level": 2,
     "metadata": {},
     "source": [
      "Multivariate pattern analysis (MVPA)"
     ]
    },
    {
     "cell_type": "markdown",
     "metadata": {},
     "source": [
      "OK, so you've got the FFA and now you want to understand the mechanisms governing responses in it. Does it respond only to full images of faces or perhaps two eyes and a nose will suffice to activate it? Or does it encode identity, gender, or race information? Great questions but it quickly becomes non-trivial to carry out such studies in practice. FFA responds robustly to faces as compared to non-faces, but differences in response to a male face versus a female face, if any, are likely to be tiny.\n",
      "\n",
      "Moreover, it makes little sense for FFA to respond more to one gender than another. It is more likely that such differences are encoded by differences in activation of units within the FFA. For example, one population of neurons in the FFA might detect the presence of a male face, while another would encode the presence of a female face. On top of that, there are probably many units that respond to certain face features or their combinations irrespective to gender.\n",
      "\n",
      "So if you carry out a conventional analysis, you will likely fail to find a significant difference even if it is actually encoded in the FFA. But notice that in a conventional analysis you are also throwing out all information conveyed in the *pattern of response* because you are averaging signal across all voxels within an ROI. "
     ]
    },
    {
     "cell_type": "heading",
     "level": 2,
     "metadata": {},
     "source": [
      "Why does it work?"
     ]
    },
    {
     "cell_type": "markdown",
     "metadata": {},
     "source": [
      "What exactly are we \"decoding\" with MVPA? Remember, voxels are not neurons -- there are hundreds of thousands of neurons within a voxel, all with their unique tuning properties. So rather than observing patterns of neuronal activation, all we have in each voxel is averages of these activations. Shouldn't we therefore get into the same problem as with univariate analyses?\n",
      "\n",
      "There are two major theories here: hyperacuity and coarse scale biases (see [Carlson, 2014](http://dx.doi.org/10.1523/JNEUROSCI.0548-14.2014)).\n",
      "\n",
      "Hyperacuity was proposed as a potential mechanism behind the success of MVPA. The idea is that in each voxel the distribution of neuronal preference is not uniform (see [Boynton, 2005](http://dx.doi.org/10.1038/nn0505-541) for a nice illustration). When you take their average -- as happens in any given voxel -- some features will have a slightly higher response (because just by chance there are slightly more units preferring that feature). And that is what you end up picking up in MVPA. Given its origin in neural preferences, i.e., very small scale features, this theory is known as hyperacuity.\n",
      "\n",
      "But we don't need these very fine scale anisotropies. An equally plausible idea is that features are grouping together into maps of a scale of several millimeters. So MVPA is simply picking up these large clusters of information.\n",
      "\n",
      "To this day, there is a great deal of debate regarding the nature of signals that we are decoding. Moreover, can we really say we are decoding stimulus representations, or, similarly, can we claim that a particular area does not encode a particular feature if we fail to decode it? Of course not. When it works, MVPA informs us about the information available in that area but whether it represents anything or is merely epiphenomenal we cannot tell. Neurophychological or brain stimulation studies (TMS, optogenetics) might help to answer these questions. And when MVPA fails, then we ust don't know anything just like with any other null result studies."
     ]
    },
    {
     "cell_type": "heading",
     "level": 1,
     "metadata": {},
     "source": [
      "Explore the signal"
     ]
    },
    {
     "cell_type": "heading",
     "level": 2,
     "metadata": {},
     "source": [
      "Setup"
     ]
    },
    {
     "cell_type": "markdown",
     "metadata": {},
     "source": [
      "In this tutorial we will use the `fmri` module from the [`psychopy_ext`](http://psychopy_ext.klab.lt) package to do all the work. The `fmri` module provides a high-level interface to the [PyMVPA](http://www.pymvpa.org) package that was build specifically for MVPA analyses.\n",
      "\n",
      "In the first step, we will generate synthetic fMRI data so that you don't have to download huge fMRI files. You will need approximately 341 MB space on your hard drive to store synthetized data."
     ]
    },
    {
     "cell_type": "code",
     "collapsed": false,
     "input": [
      "%load_ext autoreload\n",
      "%autoreload 2"
     ],
     "language": "python",
     "metadata": {},
     "outputs": [],
     "prompt_number": 16
    },
    {
     "cell_type": "code",
     "collapsed": false,
     "input": [
      "import numpy as np\n",
      "np.random.seed(3)\n",
      "from psychopy_ext import exp\n",
      "import fmri\n",
      "PATHS = exp.set_paths(fmri_rel='%s')\n",
      "\n",
      "fmri.GenHRF(PATHS).gen_test_data()"
     ],
     "language": "python",
     "metadata": {},
     "outputs": [
      {
       "output_type": "stream",
       "stream": "stdout",
       "text": [
        "Generating fMRI data... 1 "
       ]
      },
      {
       "output_type": "stream",
       "stream": "stdout",
       "text": [
        "2 "
       ]
      },
      {
       "output_type": "stream",
       "stream": "stdout",
       "text": [
        "3 "
       ]
      },
      {
       "output_type": "stream",
       "stream": "stdout",
       "text": [
        "4 "
       ]
      },
      {
       "output_type": "stream",
       "stream": "stdout",
       "text": [
        "5 "
       ]
      },
      {
       "output_type": "stream",
       "stream": "stdout",
       "text": [
        "6 "
       ]
      },
      {
       "output_type": "stream",
       "stream": "stdout",
       "text": [
        "7 "
       ]
      },
      {
       "output_type": "stream",
       "stream": "stdout",
       "text": [
        "8\n"
       ]
      }
     ],
     "prompt_number": 1
    },
    {
     "cell_type": "heading",
     "level": 2,
     "metadata": {},
     "source": [
      "Data preprocessing"
     ]
    },
    {
     "cell_type": "markdown",
     "metadata": {},
     "source": [
      "The first step is to preprocess your data. In [SPM](http://www.fil.ion.ucl.ac.uk/spm/), we typicaly do the following steps:\n",
      "\n",
      "1. Correct slice timing: correct differences in image acquisition time between slices because data during each TR is acquired sequentially from slices. Produces files with a prefix 'a'.\n",
      "2. Realign images to the mean image because a participant is moving during scanning. Produces files with a prefix 'r'.\n",
      "3. Estimate parameters of functional image coregistration to the anatomical volume so that we can compare the two and reconstruct 3D models of the brain.\n",
      "4. Segment anatomical image into grey and white and cerebro-spinal fluid.\n",
      "5. Normalize functional images to the MNI template using segmentation parameters. Produces files with a prefix 'w'.\n",
      "6. Normalize anatomical image to the MNI template using segmentation parameters. Produces a file with a prefix 'w'.\n",
      "7. Smooth functional images with a Gaussian kernel with full-width at half maximum (FWHM) being twice the voxel size. Produces files with a prefix 's'."
     ]
    },
    {
     "cell_type": "heading",
     "level": 2,
     "metadata": {},
     "source": [
      "Statistical model specification"
     ]
    },
    {
     "cell_type": "markdown",
     "metadata": {},
     "source": [
      "Now we are ready to analyze data. We need to specify a statistical model for comparing brain responses to the conditions in the experiment. In SPM, it is the matter of providing the order of conditions in the experiment (produces beta-values) and specifying which conditions should be contrasted (produces t-values). It does so by fitting a hemodynamic response function (HRF) to the data. In general, beta-values *tend* to be more reliable but there's no guarrantee. These contrasts are useful for defining regions of interest (ROIs). \n",
      "\n",
      "For non-localizer data analysis this step is not required but highly recommended as it produces better estimates of brain responses. However, in the rest of this course we will only use raw data, i.e., data as it comes out right after preprocessing."
     ]
    },
    {
     "cell_type": "heading",
     "level": 2,
     "metadata": {},
     "source": [
      "Region of interest (ROI) definition"
     ]
    },
    {
     "cell_type": "markdown",
     "metadata": {},
     "source": [
      "ROIs can be defined in two ways at least:\n",
      "\n",
      "1. By overlaying constrasts from the statistical model on top of your functional or anatomical data, and selecting the relevant voxels (typically, voxels that respond to one condition more than another above a certain threshold, like p < .0001 and requiring contiguous regions).\n",
      "\n",
      "2. If the ROIs are small and easy to confuse with other ROIs (e.g., V1), 3D reconstruction of the brain is necessary. You can do so using [Caret](http://brainvis.wustl.edu/wiki/index.php/Caret:About), [FreeSurfer](http://surfer.nmr.mgh.harvard.edu/) or many other packages. Once you have the 3D surface, it is much easier to define precisely the necessary ROIs."
     ]
    },
    {
     "cell_type": "code",
     "collapsed": false,
     "input": [
      "%matplotlib inline\n",
      "from psychopy_ext import exp\n",
      "import fmri\n",
      "PATHS = exp.set_paths(fmri_rel='%s')\n",
      "\n",
      "mvpa = fmri.Analysis(PATHS, 2, info={'subjid':'subj_01', 'runtype':'main'}, rois='rh_LO')\n",
      "mvpa.plot_roi(roi='rh_LO.nii')"
     ],
     "language": "python",
     "metadata": {},
     "outputs": [
      {
       "metadata": {},
       "output_type": "display_data",
       "png": "[encoded data removed]",
       "text": [
        "<matplotlib.figure.Figure at 0x15fc5f90>"
       ]
      }
     ],
     "prompt_number": 2
    },
    {
     "cell_type": "heading",
     "level": 2,
     "metadata": {},
     "source": [
      "Detrending"
     ]
    },
    {
     "cell_type": "markdown",
     "metadata": {},
     "source": [
      "Once images and ROIs are ready, we can inspect brain responses in them. We extract functional data for each ROI but before we look into the signal, we need to detrend it.\n",
      "\n",
      "Throughout a scan session, signal intensity tends to increase for a variety of reasons (and that is one reason why you should always use palindromic stimuli sequences in blocked designs). This increase is not meaningful at all so we need to detrend it -- that is, find this global tendency of increasing responses and subtract it. By default, detrending in `psychopy_ext` module is done using a second order polynomial for each run separately."
     ]
    },
    {
     "cell_type": "heading",
     "level": 2,
     "metadata": {},
     "source": [
      "Timecourse of the signal"
     ]
    },
    {
     "cell_type": "markdown",
     "metadata": {},
     "source": [
      "We are finally ready for having the first peak into the data by ploting timecourse of the signal. In `psychopy_ext`, you need to specify in the `rp` parameter that you want to visualize data which will plot the full timecourse of the first run, as shown in the example below:"
     ]
    },
    {
     "cell_type": "code",
     "collapsed": false,
     "input": [
      "%matplotlib inline\n",
      "from psychopy_ext import exp\n",
      "import fmri\n",
      "PATHS = exp.set_paths(fmri_rel='%s')\n",
      "\n",
      "mvpa = fmri.Analysis(PATHS, 2, info={'subjid':'subj_01', 'runtype':'main'},\n",
      "                     rp={'values':'raw', 'method':None, 'visualize':True},\n",
      "                     rois='rh_LO', dur=4, offset=0)\n",
      "df, df_fname, loaded = mvpa.run()"
     ],
     "language": "python",
     "metadata": {},
     "outputs": [
      {
       "output_type": "stream",
       "stream": "stdout",
       "text": [
        "subj_01"
       ]
      },
      {
       "output_type": "stream",
       "stream": "stdout",
       "text": [
        " rh_LO"
       ]
      },
      {
       "metadata": {},
       "output_type": "display_data",
       "png": "[encoded data removed]",
       "text": [
        "<matplotlib.figure.Figure at 0x16372c30>"
       ]
      },
      {
       "ename": "SystemExit",
       "evalue": "",
       "output_type": "pyerr",
       "traceback": [
        "An exception has occurred, use %tb to see the full traceback.\n",
        "\u001b[1;31mSystemExit\u001b[0m\n"
       ]
      },
      {
       "output_type": "stream",
       "stream": "stderr",
       "text": [
        "To exit: use 'exit', 'quit', or Ctrl-D.\n"
       ]
      }
     ],
     "prompt_number": 3
    },
    {
     "cell_type": "markdown",
     "metadata": {},
     "source": [
      "You can also plot the average signal timecourse over the entire experiment for each condition:"
     ]
    },
    {
     "cell_type": "code",
     "collapsed": false,
     "input": [
      "%matplotlib inline\n",
      "from psychopy_ext import exp\n",
      "import fmri\n",
      "PATHS = exp.set_paths(fmri_rel='%s')\n",
      "\n",
      "mvpa = fmri.Analysis(PATHS, 2, info={'subjid':'subj_01', 'runtype':'main'},\n",
      "                     rp={'values':'raw', 'method':'timecourse', 'reuserois':False},\n",
      "                     rois='rh_LO', dur=8, offset=0)\n",
      "df, df_fname, loaded = mvpa.run()"
     ],
     "language": "python",
     "metadata": {},
     "outputs": [
      {
       "output_type": "stream",
       "stream": "stdout",
       "text": [
        " subj_01"
       ]
      },
      {
       "output_type": "stream",
       "stream": "stdout",
       "text": [
        " rh_LO"
       ]
      },
      {
       "output_type": "stream",
       "stream": "stdout",
       "text": [
        "\n"
       ]
      },
      {
       "metadata": {},
       "output_type": "display_data",
       "png": "[encoded data removed]",
       "text": [
        "<matplotlib.figure.Figure at 0x160e5130>"
       ]
      }
     ],
     "prompt_number": 4
    },
    {
     "cell_type": "heading",
     "level": 1,
     "metadata": {},
     "source": [
      "Correlational analyses"
     ]
    },
    {
     "cell_type": "markdown",
     "metadata": {},
     "source": [
      "The most straightforward way to run MVPA is to compute a correlation between two patterns of response within an ROI. In particular, you can split your data in half and compute pairwise correlations between all conditions. If this correlation between the same condition is higher than the correlation between different conditions, then we say that information about conditions is available to that brain area. (For a very nice and simple study using this analysis, see [Williams et al., 2007](http://dx.doi.org/10.1038/nn1900).)\n",
      "\n",
      "Let's go over the steps implementing this analysis in practice.\n",
      "\n",
      "Let's plot responses of each voxel in an ROI (columns) for the whole run (rows) to get a feeling of what they are like:"
     ]
    },
    {
     "cell_type": "code",
     "collapsed": false,
     "input": [
      "%matplotlib inline\n",
      "from psychopy_ext import exp\n",
      "import fmri\n",
      "import matplotlib.pyplot as plt\n",
      "import seaborn as sns\n",
      "\n",
      "sns.set(style='dark')\n",
      "PATHS = exp.set_paths(fmri_rel='%s')\n",
      "\n",
      "mvpa = fmri.Analysis(PATHS, 2, info={'subjid':'subj_01', 'runtype':'main'},\n",
      "                     rp={'values':'raw', 'method':None, 'reuserois':False},\n",
      "                     rois='rh_LO', dur=2, offset=2)\n",
      "ds = mvpa.extract_samples('subj_01', 'main', ['rh_LO.nii', 'rh_LO', '*rh_LO.nii'],\n",
      "                          values='raw', offset=2)\n",
      "ds = mvpa.detrend(ds)\n",
      "evds = mvpa.ds2evds(ds, dur=2)\n",
      "mvpa.plot_ds(ds)"
     ],
     "language": "python",
     "metadata": {},
     "outputs": [
      {
       "metadata": {},
       "output_type": "display_data",
       "png": "[encoded data removed]",
       "text": [
        "<matplotlib.figure.Figure at 0x16372fb0>"
       ]
      }
     ],
     "prompt_number": 5
    },
    {
     "cell_type": "heading",
     "level": 2,
     "metadata": {},
     "source": [
      "Normalization and averaging"
     ]
    },
    {
     "cell_type": "markdown",
     "metadata": {},
     "source": [
      "Before we use these data, it is important to normalize neural responses. It is possible that for one condition responses are generally higher than to another, thus we might be leveraging these global biases. Typically, data is normalized by subtracting the mean across conditions per run per voxel.\n",
      "\n",
      "Moreover, we should average data across trials."
     ]
    },
    {
     "cell_type": "code",
     "collapsed": false,
     "input": [
      "import mvpa2.suite\n",
      "import numpy as np\n",
      "\n",
      "# leave fixation out\n",
      "evds = evds[evds.sa.targets != mvpa.fix]\n",
      "\n",
      "# calculate the mean per target per chunk (across trials)\n",
      "run_averager = mvpa2.suite.mean_group_sample(['targets','chunks'])\n",
      "evds_avg = evds.get_mapped(run_averager)\n",
      "numt = len(evds_avg.UT)\n",
      "\n",
      "# calculate mean across conditions per chunk per voxel\n",
      "target_averager = mvpa2.suite.mean_group_sample(['chunks'])\n",
      "mean = evds_avg.get_mapped(target_averager)\n",
      "# subtract the mean chunk-wise\n",
      "evds_avg.samples -= np.repeat(mean, numt, 0)"
     ],
     "language": "python",
     "metadata": {},
     "outputs": [],
     "prompt_number": 6
    },
    {
     "cell_type": "heading",
     "level": 2,
     "metadata": {},
     "source": [
      "Training and testing sets"
     ]
    },
    {
     "cell_type": "markdown",
     "metadata": {},
     "source": [
      "Alright, so we're finally ready to do some real MVPA! We are now going to split data in half and correlate one half with another. Remember: if there is no information about conditions in the response patterns, then it is effectively random and everything will correlate with everything to the same extent. However, if there is some information, we should see a higher correlation (lower dissimilarity) between patterns of response corresponding to the same condition than between patterns of response corresponding to different conditions."
     ]
    },
    {
     "cell_type": "code",
     "collapsed": false,
     "input": [
      "targets = evds_avg.UT\n",
      "\n",
      "# split 1\n",
      "evds_split1 = evds_avg[:4]\n",
      "run_averager = mvpa2.suite.mean_group_sample(['targets'])\n",
      "evds_split1 = evds_split1.get_mapped(run_averager)\n",
      "\n",
      "# split 2\n",
      "evds_split2 = evds_avg[4:]\n",
      "run_averager = mvpa2.suite.mean_group_sample(['targets'])\n",
      "evds_split2 = evds_split2.get_mapped(run_averager)\n",
      "\n",
      "result = mvpa2.clfs.distance.one_minus_correlation(evds_split1.samples,\n",
      "    evds_split2.samples) / 2\n",
      "\n",
      "plt.imshow(result, cmap='coolwarm', interpolation='none')\n",
      "plt.colorbar()\n",
      "plt.show()\n",
      "\n",
      "# plot averages for within-condition and across-conditions\n",
      "within = result.trace() / result.shape[0]\n",
      "across = (np.sum(result) - result.trace()) / (result.size - result.shape[0])\n",
      "ax = plt.subplot(111)\n",
      "ax.bar(0, within, label='within')\n",
      "ax.bar(1, across, label='across')\n",
      "ax.legend()\n",
      "plt.show()"
     ],
     "language": "python",
     "metadata": {},
     "outputs": [
      {
       "metadata": {},
       "output_type": "display_data",
       "png": "[encoded data removed]",
       "text": [
        "<matplotlib.figure.Figure at 0x16293490>"
       ]
      },
      {
       "metadata": {},
       "output_type": "display_data",
       "png": "[encoded data removed]",
       "text": [
        "<matplotlib.figure.Figure at 0x17d4c470>"
       ]
      }
     ],
     "prompt_number": 7
    },
    {
     "cell_type": "heading",
     "level": 2,
     "metadata": {},
     "source": [
      "Cross-validation"
     ]
    },
    {
     "cell_type": "markdown",
     "metadata": {},
     "source": [
      "So there seems to be something in the pattern of response. Before we celebrate, there is an extra step recommended here. Did you notice how we split the data? We put the first four runs in `split1` and the remaining for in `split2`. Why split like that? Couldn't we have chosen some other kind of split?\n",
      "\n",
      "We could and, in fact, we should. Because if we don't, how can we know that the result is not spurious, that is, that the observed difference is not due the particular split that we performed? Maybe another split would not yield the same result? And, on the other hand, we might completely miss the effect because just by accident it was not present in the particular split that we chose. Of course, in practice we have several participants so if the effect is stable across participants, we are doing fine. But chance are higher to observe the effect if we average outcomes of several splitting procedures. In `psychopy_ext`, by default random splitting is performed 100 times. We will refer to this procedure as *cross-validation* though the true meaning of this term will become clear only when we consider support vector machines."
     ]
    },
    {
     "cell_type": "code",
     "collapsed": false,
     "input": [
      "%matplotlib inline\n",
      "from psychopy_ext import exp\n",
      "import fmri\n",
      "PATHS = exp.set_paths(fmri_rel='%s')\n",
      "\n",
      "mvpa = fmri.Analysis(PATHS, 2, info={'subjid':'subj_01', 'runtype':'main'},\n",
      "                     rp={'values':'raw', 'method':'corr', 'plot':True},\n",
      "                     rois='rh_LO', dur=2, offset=2)\n",
      "df, df_fname, loaded = mvpa.run()"
     ],
     "language": "python",
     "metadata": {},
     "outputs": [
      {
       "output_type": "stream",
       "stream": "stdout",
       "text": [
        "subj_01"
       ]
      },
      {
       "output_type": "stream",
       "stream": "stdout",
       "text": [
        "\n",
        "Could not load or find the results file ./analysis/corr_raw_subj_01.pkl\n",
        "Will proceed to do corr analysis from scratch\n",
        "rh_LO"
       ]
      },
      {
       "output_type": "stream",
       "stream": "stdout",
       "text": [
        " (loaded)\n"
       ]
      },
      {
       "output_type": "stream",
       "stream": "stderr",
       "text": [
        "C:\\Miniconda32\\lib\\site-packages\\numpy\\core\\_methods.py:79: RuntimeWarning: Degrees of freedom <= 0 for slice\n",
        "  warnings.warn(\"Degrees of freedom <= 0 for slice\", RuntimeWarning)\n",
        "C:\\Miniconda32\\lib\\site-packages\\matplotlib\\figure.py:1595: UserWarning: This figure includes Axes that are not compatible with tight_layout, so its results might be incorrect.\n",
        "  warnings.warn(\"This figure includes Axes that are not \"\n"
       ]
      },
      {
       "metadata": {},
       "output_type": "display_data",
       "png": "[encoded data removed]",
       "text": [
        "<matplotlib.figure.Figure at 0x34f3cd0>"
       ]
      },
      {
       "metadata": {},
       "output_type": "display_data",
       "png": "[encoded data removed]",
       "text": [
        "<matplotlib.figure.Figure at 0x1620ad70>"
       ]
      }
     ],
     "prompt_number": 8
    },
    {
     "cell_type": "heading",
     "level": 1,
     "metadata": {},
     "source": [
      "Support vector machines"
     ]
    },
    {
     "cell_type": "heading",
     "level": 2,
     "metadata": {},
     "source": [
      "Introduction"
     ]
    },
    {
     "cell_type": "markdown",
     "metadata": {},
     "source": [
      "Correlational analyses are simple and fast but they might have issues dealing with noisy fMRI data. In the analysis we just did, it is really not so clear it there is anything or not. This is the major problem of interest in machine learning so here we will employ one of their most robust and powerful techniques, known as support vector machines (SVM). *(Note that in practice SVMs are not guarranteed to yield a better result that correlations.)*"
     ]
    },
    {
     "cell_type": "heading",
     "level": 2,
     "metadata": {},
     "source": [
      "Setup"
     ]
    },
    {
     "cell_type": "code",
     "collapsed": false,
     "input": [
      "\"\"\"\n",
      "Modified from PyMVPA example http://www.pymvpa.org/examples/pylab_2d.html\n",
      "and http://www.pymvpa.org/examples/pylab_2d.html\n",
      "\"\"\"\n",
      "import mvpa2.suite\n",
      "import numpy as np\n",
      "import matplotlib.pyplot as plt\n",
      "import seaborn\n",
      "%matplotlib inline\n",
      "\n",
      "np.random.seed(3)\n",
      "\n",
      "##############\n",
      "# Parameters #\n",
      "##############\n",
      "npoints = 200\n",
      "xymax = 9  # Absolute max value allowed. Just to assure proper plots\n",
      "ngrid = 101  # grid for evaluting performance\n",
      "\n",
      "# set grid\n",
      "x1 = np.linspace(0, xymax, ngrid)\n",
      "x2 = np.linspace(0, xymax, ngrid)\n",
      "x,y = np.meshgrid(x1, x2)\n",
      "feat_grid = np.array((np.ravel(x), np.ravel(y)))\n",
      "\n",
      "def train_svm(ds, cl= mvpa2.suite.LinearNuSVMC):\n",
      "    # define classifier\n",
      "    clf = cl(probability=1, enable_ca=['probabilities'])\n",
      "    # enable saving of the estimates used for the prediction\n",
      "    clf.ca.enable('estimates')\n",
      "    # train with the known points\n",
      "    clf.train(ds)\n",
      "    # run the predictions on the test values\n",
      "    pre = clf.predict(feat_grid.T)\n",
      "    # get probabilities from the svm\n",
      "    res = np.asarray([(q[1][1] - q[1][0] + 1) / 2\n",
      "                for q in clf.ca.probabilities])\n",
      "    # get support vectors\n",
      "    supvecs = clf.model.get_sv()\n",
      "    \n",
      "    return res, supvecs\n",
      "\n",
      "def plot_data(ds, supvecs=None, contour=None):\n",
      "    ax = plt.subplot(111)\n",
      "    ax.set_aspect('equal')\n",
      "    \n",
      "    # plot samples\n",
      "    ax.plot(ds.samples[ds.targets == 1, 0], ds.samples[ds.targets == 1, 1], '.',\n",
      "            color='indianred', label='condition 1')\n",
      "    ax.plot(ds.samples[ds.targets == 0, 0], ds.samples[ds.targets == 0, 1], '.',\n",
      "            color='steelblue', label='condition 2')    \n",
      "    \n",
      "    # plot support vectors as larger dots\n",
      "    if supvecs is not None:\n",
      "        feat_pos = ds.samples[ds.targets == 1]\n",
      "        feat_neg = ds.samples[ds.targets == 0]\n",
      "        pos_test = np.array([f for f in feat_pos if f in supvecs]).T\n",
      "        neg_test = np.array([f for f in feat_neg if f in supvecs]).T\n",
      "        ax.plot(pos_test[0], pos_test[1],\n",
      "                'o', color='indianred')\n",
      "        ax.plot(neg_test[0], neg_test[1],\n",
      "                'o', color='steelblue')\n",
      "    \n",
      "    # plot probability contour\n",
      "    if contour is not None:\n",
      "        # plot decision surfaces at few levels to emphasize the topology\n",
      "        z = np.asarray(contour).reshape((ngrid, ngrid))\n",
      "        \n",
      "        ax.contour(x, y, z, [0.1, 0.4, 0.5, 0.6, 0.9],\n",
      "                   linestyles=['dotted', 'dashed', 'solid', 'dashed', 'dotted'],\n",
      "                   linewidths=1, colors='black', hold=True)\n",
      "        \n",
      "    ax.set_xlabel('response in voxel 1')\n",
      "    ax.set_ylabel('response in voxel 2')\n",
      "    ax.legend()"
     ],
     "language": "python",
     "metadata": {},
     "outputs": [],
     "prompt_number": 9
    },
    {
     "cell_type": "heading",
     "level": 2,
     "metadata": {},
     "source": [
      "Data separation problem"
     ]
    },
    {
     "cell_type": "markdown",
     "metadata": {},
     "source": [
      "The basic idea here is that for each condition we have the data as *n*-dimentional vectors where *n* is the number of voxels and we want to know if those vectors are somehow separable. In other words, we want to find a particular partitioning rule that would allow us to predict with confidence from which condition new data points would be. If we can do so, we can claim that in that there is information about those conditions in the given ROI. \n",
      "\n",
      "To illustrate this, let's consider responses from just two voxels (so that's a 2-dimentional space that we can plot). The responses are, of course, all over the place but it is not so difficult to decide which response belongs to which category. What do you think the *optimal* separation would be?"
     ]
    },
    {
     "cell_type": "code",
     "collapsed": false,
     "input": [
      "#################\n",
      "# Generate data #\n",
      "#################\n",
      "dist = 1  # distance between the two distributions\n",
      "\n",
      "def gen_data(dist):\n",
      "    feat = mvpa2.suite.pure_multivariate_signal(30, 2)\n",
      "    feat = np.random.randn(2, npoints) + dist + xymax / 2.\n",
      "    feat = feat.clip(0, xymax)\n",
      "    return feat\n",
      "\n",
      "# two categories of samples\n",
      "feat_pos = gen_data(dist)\n",
      "feat_neg = gen_data(-dist)\n",
      "\n",
      "# create the pymvpa dataset from the labeled features\n",
      "pat_pos = mvpa2.suite.dataset_wizard(samples=feat_pos.T, targets=1)\n",
      "pat_neg = mvpa2.suite.dataset_wizard(samples=feat_neg.T, targets=0)\n",
      "ds = mvpa2.suite.vstack((pat_pos, pat_neg))\n",
      "\n",
      "# plot data\n",
      "plot_data(ds)"
     ],
     "language": "python",
     "metadata": {},
     "outputs": [
      {
       "metadata": {},
       "output_type": "display_data",
       "png": "[encoded data removed]",
       "text": [
        "<matplotlib.figure.Figure at 0x17d4c7d0>"
       ]
      }
     ],
     "prompt_number": 10
    },
    {
     "cell_type": "markdown",
     "metadata": {},
     "source": [
      "Here is what SVM thinks an optimal separation is (look at the black solid line; other lines indicate decreasing probabilities of where the boundary could be):"
     ]
    },
    {
     "cell_type": "code",
     "collapsed": false,
     "input": [
      "# train SVM and plot\n",
      "res, supvecs = train_svm(ds)\n",
      "plot_data(ds, supvecs=supvecs, contour=res)"
     ],
     "language": "python",
     "metadata": {},
     "outputs": [
      {
       "metadata": {},
       "output_type": "display_data",
       "png": "[encoded data removed]",
       "text": [
        "<matplotlib.figure.Figure at 0x1646aeb0>"
       ]
      }
     ],
     "prompt_number": 11
    },
    {
     "cell_type": "markdown",
     "metadata": {},
     "source": [
      "Well, that looks pretty good. I mean, it could have provided many other solutions where this separation line could be, such as slightly rotated lines. But in fact, SVM is guarranteed to find the optimal separation boundary and this is why this technique is so great.\n",
      "\n",
      "It is also fast. One of the reasons it is fast is that it detects the so-called *support vectors*, i.e., the data points that are close to the separation boundary, and uses only them to make it decision. Everything else doesn't matter so we can use even very large datasets.\n",
      "\n",
      "It is also important to understand that SVMs are not magic that can do everything by themselves. They have certain parameters that a user can manipulate in order to yield better results. By default, in `PyMVPA` these parameters are set to some hopefully reasonable values and we do not manipulate them. It might be better to perform a grid-search for best parameters but for some reason this is not done in practice."
     ]
    },
    {
     "cell_type": "heading",
     "level": 2,
     "metadata": {},
     "source": [
      "Is that the *true* separation boundary?"
     ]
    },
    {
     "cell_type": "markdown",
     "metadata": {},
     "source": [
      "Of course not. This is the *optimal* boundary given the data. The *true* boundary, in this case, should be a line at a 45 deg angle. But SVM cannot know the underlying distribution absolutely from just several hundred of samples. Need more precision? Get more data."
     ]
    },
    {
     "cell_type": "heading",
     "level": 2,
     "metadata": {},
     "source": [
      "SVM on our data"
     ]
    },
    {
     "cell_type": "markdown",
     "metadata": {},
     "source": [
      "OK, that's all you realy need to know about SVMs. Time to test them on our data!\n",
      "\n",
      "Procedure:\n",
      "\n",
      "- **Normalize** data by subtracting the mean across voxels per chunk per condition (target).\n",
      "- **Split data** into a training set (about 75% of all values) and a testing set (about 25% of values), unless there are only two runs, in which case it is 50% training and 50% testing.\n",
      "- For each pair of conditions, train the classifier (this is a binary classification; multiclass SVM is also available but I don't use them).\n",
      "- Then test on the average of the testing set, i.e., only on two samples. This trick usually boosts the performance (credit: Hans P. Op de Beeck)"
     ]
    },
    {
     "cell_type": "code",
     "collapsed": false,
     "input": [
      "%matplotlib inline\n",
      "import numpy as np\n",
      "np.random.seed(3)\n",
      "from psychopy_ext import exp\n",
      "import fmri\n",
      "PATHS = exp.set_paths(fmri_rel='%s')\n",
      "\n",
      "mvpa = fmri.Analysis(PATHS, 2, info={'subjid':'subj_01', 'runtype':'main'},\n",
      "                     rp={'values':'raw', 'method':'svm', 'plot':True, 'force':'all'},\n",
      "                     rois='rh_LO', dur=2, offset=2)\n",
      "df, df_fname, loaded = mvpa.run()"
     ],
     "language": "python",
     "metadata": {},
     "outputs": [
      {
       "output_type": "stream",
       "stream": "stdout",
       "text": [
        "subj_01"
       ]
      },
      {
       "output_type": "stream",
       "stream": "stdout",
       "text": [
        "\n",
        "Could not load or find the results file ./analysis/svm_raw_subj_01.pkl\n",
        "Will proceed to do svm analysis from scratch\n",
        "rh_LO"
       ]
      },
      {
       "output_type": "stream",
       "stream": "stdout",
       "text": [
        "\r",
        " 0 %"
       ]
      },
      {
       "output_type": "stream",
       "stream": "stdout",
       "text": [
        "\r",
        " 1 %"
       ]
      },
      {
       "output_type": "stream",
       "stream": "stdout",
       "text": [
        "\r",
        " 2 %"
       ]
      },
      {
       "output_type": "stream",
       "stream": "stdout",
       "text": [
        "\r",
        " 3 %"
       ]
      },
      {
       "output_type": "stream",
       "stream": "stdout",
       "text": [
        "\r",
        " 4 %"
       ]
      },
      {
       "output_type": "stream",
       "stream": "stdout",
       "text": [
        "\r",
        " 5 %"
       ]
      },
      {
       "output_type": "stream",
       "stream": "stdout",
       "text": [
        "\r",
        " 6 %"
       ]
      },
      {
       "output_type": "stream",
       "stream": "stdout",
       "text": [
        "\r",
        " 7 %"
       ]
      },
      {
       "output_type": "stream",
       "stream": "stdout",
       "text": [
        "\r",
        " 8 %"
       ]
      },
      {
       "output_type": "stream",
       "stream": "stdout",
       "text": [
        "\r",
        " 9 %"
       ]
      },
      {
       "output_type": "stream",
       "stream": "stdout",
       "text": [
        "\r",
        " 10 %"
       ]
      },
      {
       "output_type": "stream",
       "stream": "stdout",
       "text": [
        "\r",
        " 11 %"
       ]
      },
      {
       "output_type": "stream",
       "stream": "stdout",
       "text": [
        "\r",
        " 12 %"
       ]
      },
      {
       "output_type": "stream",
       "stream": "stdout",
       "text": [
        "\r",
        " 13 %"
       ]
      },
      {
       "output_type": "stream",
       "stream": "stdout",
       "text": [
        "\r",
        " 14 %"
       ]
      },
      {
       "output_type": "stream",
       "stream": "stdout",
       "text": [
        "\r",
        " 15 %"
       ]
      },
      {
       "output_type": "stream",
       "stream": "stdout",
       "text": [
        "\r",
        " 16 %"
       ]
      },
      {
       "output_type": "stream",
       "stream": "stdout",
       "text": [
        "\r",
        " 17 %"
       ]
      },
      {
       "output_type": "stream",
       "stream": "stdout",
       "text": [
        "\r",
        " 18 %"
       ]
      },
      {
       "output_type": "stream",
       "stream": "stdout",
       "text": [
        "\r",
        " 19 %"
       ]
      },
      {
       "output_type": "stream",
       "stream": "stdout",
       "text": [
        "\r",
        " 20 %"
       ]
      },
      {
       "output_type": "stream",
       "stream": "stdout",
       "text": [
        "\r",
        " 21 %"
       ]
      },
      {
       "output_type": "stream",
       "stream": "stdout",
       "text": [
        "\r",
        " 22 %"
       ]
      },
      {
       "output_type": "stream",
       "stream": "stdout",
       "text": [
        "\r",
        " 23 %"
       ]
      },
      {
       "output_type": "stream",
       "stream": "stdout",
       "text": [
        "\r",
        " 24 %"
       ]
      },
      {
       "output_type": "stream",
       "stream": "stdout",
       "text": [
        "\r",
        " 25 %"
       ]
      },
      {
       "output_type": "stream",
       "stream": "stdout",
       "text": [
        "\r",
        " 26 %"
       ]
      },
      {
       "output_type": "stream",
       "stream": "stdout",
       "text": [
        "\r",
        " 27 %"
       ]
      },
      {
       "output_type": "stream",
       "stream": "stdout",
       "text": [
        "\r",
        " 28 %"
       ]
      },
      {
       "output_type": "stream",
       "stream": "stdout",
       "text": [
        "\r",
        " 29 %"
       ]
      },
      {
       "output_type": "stream",
       "stream": "stdout",
       "text": [
        "\r",
        " 30 %"
       ]
      },
      {
       "output_type": "stream",
       "stream": "stdout",
       "text": [
        "\r",
        " 31 %"
       ]
      },
      {
       "output_type": "stream",
       "stream": "stdout",
       "text": [
        "\r",
        " 32 %"
       ]
      },
      {
       "output_type": "stream",
       "stream": "stdout",
       "text": [
        "\r",
        " 33 %"
       ]
      },
      {
       "output_type": "stream",
       "stream": "stdout",
       "text": [
        "\r",
        " 34 %"
       ]
      },
      {
       "output_type": "stream",
       "stream": "stdout",
       "text": [
        "\r",
        " 35 %"
       ]
      },
      {
       "output_type": "stream",
       "stream": "stdout",
       "text": [
        "\r",
        " 36 %"
       ]
      },
      {
       "output_type": "stream",
       "stream": "stdout",
       "text": [
        "\r",
        " 37 %"
       ]
      },
      {
       "output_type": "stream",
       "stream": "stdout",
       "text": [
        "\r",
        " 38 %"
       ]
      },
      {
       "output_type": "stream",
       "stream": "stdout",
       "text": [
        "\r",
        " 39 %"
       ]
      },
      {
       "output_type": "stream",
       "stream": "stdout",
       "text": [
        "\r",
        " 40 %"
       ]
      },
      {
       "output_type": "stream",
       "stream": "stdout",
       "text": [
        "\r",
        " 41 %"
       ]
      },
      {
       "output_type": "stream",
       "stream": "stdout",
       "text": [
        "\r",
        " 42 %"
       ]
      },
      {
       "output_type": "stream",
       "stream": "stdout",
       "text": [
        "\r",
        " 43 %"
       ]
      },
      {
       "output_type": "stream",
       "stream": "stdout",
       "text": [
        "\r",
        " 44 %"
       ]
      },
      {
       "output_type": "stream",
       "stream": "stdout",
       "text": [
        "\r",
        " 45 %"
       ]
      },
      {
       "output_type": "stream",
       "stream": "stdout",
       "text": [
        "\r",
        " 46 %"
       ]
      },
      {
       "output_type": "stream",
       "stream": "stdout",
       "text": [
        "\r",
        " 47 %"
       ]
      },
      {
       "output_type": "stream",
       "stream": "stdout",
       "text": [
        "\r",
        " 48 %"
       ]
      },
      {
       "output_type": "stream",
       "stream": "stdout",
       "text": [
        "\r",
        " 49 %"
       ]
      },
      {
       "output_type": "stream",
       "stream": "stdout",
       "text": [
        "\r",
        " 50 %"
       ]
      },
      {
       "output_type": "stream",
       "stream": "stdout",
       "text": [
        "\r",
        " 51 %"
       ]
      },
      {
       "output_type": "stream",
       "stream": "stdout",
       "text": [
        "\r",
        " 52 %"
       ]
      },
      {
       "output_type": "stream",
       "stream": "stdout",
       "text": [
        "\r",
        " 53 %"
       ]
      },
      {
       "output_type": "stream",
       "stream": "stdout",
       "text": [
        "\r",
        " 54 %"
       ]
      },
      {
       "output_type": "stream",
       "stream": "stdout",
       "text": [
        "\r",
        " 55 %"
       ]
      },
      {
       "output_type": "stream",
       "stream": "stdout",
       "text": [
        "\r",
        " 56 %"
       ]
      },
      {
       "output_type": "stream",
       "stream": "stdout",
       "text": [
        "\r",
        " 57 %"
       ]
      },
      {
       "output_type": "stream",
       "stream": "stdout",
       "text": [
        "\r",
        " 58 %"
       ]
      },
      {
       "output_type": "stream",
       "stream": "stdout",
       "text": [
        "\r",
        " 59 %"
       ]
      },
      {
       "output_type": "stream",
       "stream": "stdout",
       "text": [
        "\r",
        " 60 %"
       ]
      },
      {
       "output_type": "stream",
       "stream": "stdout",
       "text": [
        "\r",
        " 61 %"
       ]
      },
      {
       "output_type": "stream",
       "stream": "stdout",
       "text": [
        "\r",
        " 62 %"
       ]
      },
      {
       "output_type": "stream",
       "stream": "stdout",
       "text": [
        "\r",
        " 63 %"
       ]
      },
      {
       "output_type": "stream",
       "stream": "stdout",
       "text": [
        "\r",
        " 64 %"
       ]
      },
      {
       "output_type": "stream",
       "stream": "stdout",
       "text": [
        "\r",
        " 65 %"
       ]
      },
      {
       "output_type": "stream",
       "stream": "stdout",
       "text": [
        "\r",
        " 66 %"
       ]
      },
      {
       "output_type": "stream",
       "stream": "stdout",
       "text": [
        "\r",
        " 67 %"
       ]
      },
      {
       "output_type": "stream",
       "stream": "stdout",
       "text": [
        "\r",
        " 68 %"
       ]
      },
      {
       "output_type": "stream",
       "stream": "stdout",
       "text": [
        "\r",
        " 69 %"
       ]
      },
      {
       "output_type": "stream",
       "stream": "stdout",
       "text": [
        "\r",
        " 70 %"
       ]
      },
      {
       "output_type": "stream",
       "stream": "stdout",
       "text": [
        "\r",
        " 71 %"
       ]
      },
      {
       "output_type": "stream",
       "stream": "stdout",
       "text": [
        "\r",
        " 72 %"
       ]
      },
      {
       "output_type": "stream",
       "stream": "stdout",
       "text": [
        "\r",
        " 73 %"
       ]
      },
      {
       "output_type": "stream",
       "stream": "stdout",
       "text": [
        "\r",
        " 74 %"
       ]
      },
      {
       "output_type": "stream",
       "stream": "stdout",
       "text": [
        "\r",
        " 75 %"
       ]
      },
      {
       "output_type": "stream",
       "stream": "stdout",
       "text": [
        "\r",
        " 76 %"
       ]
      },
      {
       "output_type": "stream",
       "stream": "stdout",
       "text": [
        "\r",
        " 77 %"
       ]
      },
      {
       "output_type": "stream",
       "stream": "stdout",
       "text": [
        "\r",
        " 78 %"
       ]
      },
      {
       "output_type": "stream",
       "stream": "stdout",
       "text": [
        "\r",
        " 79 %"
       ]
      },
      {
       "output_type": "stream",
       "stream": "stdout",
       "text": [
        "\r",
        " 80 %"
       ]
      },
      {
       "output_type": "stream",
       "stream": "stdout",
       "text": [
        "\r",
        " 81 %"
       ]
      },
      {
       "output_type": "stream",
       "stream": "stdout",
       "text": [
        "\r",
        " 82 %"
       ]
      },
      {
       "output_type": "stream",
       "stream": "stdout",
       "text": [
        "\r",
        " 83 %"
       ]
      },
      {
       "output_type": "stream",
       "stream": "stdout",
       "text": [
        "\r",
        " 84 %"
       ]
      },
      {
       "output_type": "stream",
       "stream": "stdout",
       "text": [
        "\r",
        " 85 %"
       ]
      },
      {
       "output_type": "stream",
       "stream": "stdout",
       "text": [
        "\r",
        " 86 %"
       ]
      },
      {
       "output_type": "stream",
       "stream": "stdout",
       "text": [
        "\r",
        " 87 %"
       ]
      },
      {
       "output_type": "stream",
       "stream": "stdout",
       "text": [
        "\r",
        " 88 %"
       ]
      },
      {
       "output_type": "stream",
       "stream": "stdout",
       "text": [
        "\r",
        " 89 %"
       ]
      },
      {
       "output_type": "stream",
       "stream": "stdout",
       "text": [
        "\r",
        " 90 %"
       ]
      },
      {
       "output_type": "stream",
       "stream": "stdout",
       "text": [
        "\r",
        " 91 %"
       ]
      },
      {
       "output_type": "stream",
       "stream": "stdout",
       "text": [
        "\r",
        " 92 %"
       ]
      },
      {
       "output_type": "stream",
       "stream": "stdout",
       "text": [
        "\r",
        " 93 %"
       ]
      },
      {
       "output_type": "stream",
       "stream": "stdout",
       "text": [
        "\r",
        " 94 %"
       ]
      },
      {
       "output_type": "stream",
       "stream": "stdout",
       "text": [
        "\r",
        " 95 %"
       ]
      },
      {
       "output_type": "stream",
       "stream": "stdout",
       "text": [
        "\r",
        " 96 %"
       ]
      },
      {
       "output_type": "stream",
       "stream": "stdout",
       "text": [
        "\r",
        " 97 %"
       ]
      },
      {
       "output_type": "stream",
       "stream": "stdout",
       "text": [
        "\r",
        " 98 %"
       ]
      },
      {
       "output_type": "stream",
       "stream": "stdout",
       "text": [
        "\r",
        " 99 %"
       ]
      },
      {
       "output_type": "stream",
       "stream": "stdout",
       "text": [
        "\n",
        "\n"
       ]
      },
      {
       "metadata": {},
       "output_type": "display_data",
       "png": "[encoded data removed]",
       "text": [
        "<matplotlib.figure.Figure at 0x17c643d0>"
       ]
      },
      {
       "metadata": {},
       "output_type": "display_data",
       "png": "[encoded data removed]",
       "text": [
        "<matplotlib.figure.Figure at 0x1626b7f0>"
       ]
      }
     ],
     "prompt_number": 12
    },
    {
     "cell_type": "heading",
     "level": 2,
     "metadata": {},
     "source": [
      "Training and testing sets"
     ]
    },
    {
     "cell_type": "markdown",
     "metadata": {},
     "source": [
      "Notice -- and this is very important -- that we **always** split data into two sets, and one of them is used for training *only*, while the other is used for testing *only*. This way, we train SVM on one data set and then, using another set, ask how well it learned the separation between conditions. What do you think its performance would be if we trained and tested on the same dataset?\n",
      "\n",
      "Answer: usually you would get a very good performance, not 100%, but good nonetheless because for most datasets SVM will be able to find some sort of a separating hyperplane that does indeed separate the two conditions to some extent. However, the whole point is to see if this hyperplane is actually useful at all in general, not just for this training set. That's why we use a separate testing set to check whether there is a general separation rule."
     ]
    },
    {
     "cell_type": "heading",
     "level": 2,
     "metadata": {},
     "source": [
      "Cross-validation"
     ]
    },
    {
     "cell_type": "markdown",
     "metadata": {},
     "source": [
      "So what is this cross-validation? In `psychopy_ext`, we split data randomly into training and test samples. If we did it in a more systematic manner this would yield the cross-validation. For example, a popular cross-validation technique is know as *leave-one-out* where all but one runs are used in the training set and the remaining one is the testing set. In our case, we would take the first run as the testing set and the remaining seven runs as the training set. In the next iteration, we would take the second run as the testing run and the other seven as the training set. And so forth. In the end, this would be an *eight-fold cross-validation* as if we folded the data in eight different ways.\n",
      "\n",
      "Importantly, data always remains independent."
     ]
    },
    {
     "cell_type": "heading",
     "level": 2,
     "metadata": {},
     "source": [
      "Nonlinear classifiers"
     ]
    },
    {
     "cell_type": "markdown",
     "metadata": {},
     "source": [
      "So far we only used linear classifiers in our examples, i.e., those that are only capable of drawing a hyperplane between two classes. But what if the distributions of the signal look like this:"
     ]
    },
    {
     "cell_type": "code",
     "collapsed": false,
     "input": [
      "ds = mvpa2.suite.pure_multivariate_signal(npoints, 2)\n",
      "ds.samples += 6\n",
      "plot_data(ds)"
     ],
     "language": "python",
     "metadata": {},
     "outputs": [
      {
       "metadata": {},
       "output_type": "display_data",
       "png": "[encoded data removed]",
       "text": [
        "<matplotlib.figure.Figure at 0x1266bd30>"
       ]
      }
     ],
     "prompt_number": 31
    },
    {
     "cell_type": "markdown",
     "metadata": {},
     "source": [
      "There is no way you can separate these two populations linearly. But you can clearly see a difference between two populiations so surely there must be a way to do that. And surely there is because this is a very common situation that machine learning has to deal with. Instead of using linear classifiers we can simply use their nonlinear variants. In the example below, we use an SVM with the radial basis function kernel."
     ]
    },
    {
     "cell_type": "code",
     "collapsed": false,
     "input": [
      "res, supvecs = train_svm(ds, cl=mvpa2.suite.RbfNuSVMC)\n",
      "plot_data(ds, supvecs=supvecs, contour=res)"
     ],
     "language": "python",
     "metadata": {},
     "outputs": [
      {
       "metadata": {},
       "output_type": "display_data",
       "png": "[encoded data removed]",
       "text": [
        "<matplotlib.figure.Figure at 0x1666bb90>"
       ]
      }
     ],
     "prompt_number": 32
    },
    {
     "cell_type": "markdown",
     "metadata": {},
     "source": [
      "Awesome! Nonlinear classifiers works amazingly in machine learning. But should you use this in neuroimaging? Probably not. To illustrate that, imagine taking images with and without faces. You can go ahead and train your nonlinear classifier on these images or, if you want to relate it to brain responses, first filter them with Gabor-line filters just like in V1. The classifier will likely be able to differentiate between the two categories -- but will you want to make a claim that V1 does face processing? From what we know, V1 does not detect face information. Yet we can decode faces from it. Why?\n",
      "\n",
      "Well, the information about faces present or absent is in the signal (the image) itself by definition, so given a powerful enough model I will find this difference. But it does not mean that V1 makes use of this information. For its purposes, this information is unusable. The whole point of visual processing is to deconvolve signals into something usable, something *easily* discriminable. In neuroscience, we tend to assume that a linear separation is easy enough for the next layer in the visual hierarchy to perform.\n",
      "\n",
      "Not everybody necessarily agrees with this resctriction though."
     ]
    }
   ],
   "metadata": {}
  }
 ]
}