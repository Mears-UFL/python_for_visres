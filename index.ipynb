{
 "metadata": {
  "name": "",
  "signature": "sha256:032844c984d8f7212ad700fe1e5ed17d1aa9d868ef0f5bca3fc09ea060f45061"
 },
 "nbformat": 3,
 "nbformat_minor": 0,
 "worksheets": [
  {
   "cells": [
    {
     "cell_type": "markdown",
     "metadata": {},
     "source": [
      "![Python + GestaltReVision logo](logo.png)"
     ]
    },
    {
     "cell_type": "heading",
     "level": 1,
     "metadata": {},
     "source": [
      "Python for Vision Research"
     ]
    },
    {
     "cell_type": "markdown",
     "metadata": {},
     "source": [
      "Welcome to the introductory series to using [Python in vision research](http://gestaltrevision.be/wiki/python/python) brought to you by the [GestaltReVision](http://gestaltrevision.be) group (KU Leuven, Belgium).\n",
      "\n",
      "These series consist of six IPython notebooks meant as a three-day crash course in programming with [Python](http://python.org), building experiments with [PsychoPy](http://psychopy.org) and [psychopy_ext](http://psychopy_ext.klab.lt/), and fMRI multi-voxel pattern analysis with [PyMVPA](http://www.pymvpa.org/).\n",
      "\n",
      "There are more extensive resources for vision scientists on [our GestaltReVision wiki](http://gestaltrevision.be/wiki/python/python)."
     ]
    },
    {
     "cell_type": "heading",
     "level": 1,
     "metadata": {},
     "source": [
      "Contents"
     ]
    },
    {
     "cell_type": "markdown",
     "metadata": {},
     "source": [
      "1. [An introduction to Python](Part1_Intro_to_Python.ipynb)\n",
      "2. [Introduction to PsychoPy for creating experiments](Part2_PsychoPy.ipynb)\n",
      "3. [Transitioning from MATLAB to Python](Part3_Scientific_Python.ipynb)\n",
      "4. [More practice with PsychoPy](Part4_Practice_with_PsychoPy.ipynb)\n",
      "5. [Streamline research with psychopy_ext](Part5_psychopy_ext.ipynb)\n",
      "6. [Multi-voxel pattern analysis](Part6_MVPA.ipynb)"
     ]
    },
    {
     "cell_type": "heading",
     "level": 1,
     "metadata": {},
     "source": [
      "What you'll need"
     ]
    },
    {
     "cell_type": "markdown",
     "metadata": {},
     "source": [
      "Unfortunately, getting Python and all necessary packages is one of the major difficulties for beginners. So please be patient and try to get everything in order because once you get it running, magic can start."
     ]
    },
    {
     "cell_type": "heading",
     "level": 2,
     "metadata": {},
     "source": [
      "Python packages"
     ]
    },
    {
     "cell_type": "markdown",
     "metadata": {},
     "source": [
      "For complete beginners, a [Standalone PsychoPy installation](http://sourceforge.net/projects/psychpy/files/PsychoPy/) will be the easiest. However, if you want to be able to run this notebook on your machine, you'll be better off installing all packages manually. See [our website](http://gestaltrevision.be/wiki/python/pythoninstall) or [PsychoPy's installation page](http://www.psychopy.org/installation.html) for more information.\n",
      "\n",
      "We also suggest to install [Spyder](https://code.google.com/p/spyderlib/) as a decent environment to code and run your experiments, or you can try [other options](http://gestaltrevision.be/wiki/python/pythoninstall)."
     ]
    },
    {
     "cell_type": "heading",
     "level": 2,
     "metadata": {},
     "source": [
      "Tutorial code"
     ]
    },
    {
     "cell_type": "markdown",
     "metadata": {},
     "source": [
      "All materials, including this notebook, are available [here](http://gestaltrevision.be/wiki/_media/python/python_for_visres.zip)."
     ]
    },
    {
     "cell_type": "heading",
     "level": 1,
     "metadata": {},
     "source": [
      "License"
     ]
    },
    {
     "cell_type": "markdown",
     "metadata": {},
     "source": [
      "**Authors:** Maarten Demeyer, [Jonas Kubilius](http://klab.lt)  \n",
      "**Year:** 2014  \n",
      "**Copyright:** Public Domain as in [CC0](https://creativecommons.org/publicdomain/zero/1.0/) (expect where noted otherwise). Feel free to reuse these materials for your teaching or any other purposes."
     ]
    }
   ],
   "metadata": {}
  }
 ]
}