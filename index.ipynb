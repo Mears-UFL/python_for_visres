{
 "metadata": {
  "name": "",
  "signature": "sha256:6af8de12028af890b2560c3c6ef5361103dddd31b01bff87737009f2a16e3a05"
 },
 "nbformat": 3,
 "nbformat_minor": 0,
 "worksheets": [
  {
   "cells": [
    {
     "cell_type": "markdown",
     "metadata": {},
     "source": [
      "![Python + GestaltReVision logo](logo.png)"
     ]
    },
    {
     "cell_type": "heading",
     "level": 1,
     "metadata": {},
     "source": [
      "Python for Vision Research"
     ]
    },
    {
     "cell_type": "markdown",
     "metadata": {},
     "source": [
      "Welcome to the introductory series to using [Python in vision research](http://gestaltrevision.be/wiki/python/python) brought to you by the [GestaltReVision](http://gestaltrevision.be) group (KU Leuven, Belgium).\n",
      "\n",
      "These series consist of six IPython notebooks meant as a three-day crash course in programming with [Python](http://python.org), building experiments with [PsychoPy](http://psychopy.org) and [psychopy_ext](http://psychopy_ext.klab.lt/), and fMRI multi-voxel pattern analysis with [PyMVPA](http://www.pymvpa.org/).\n",
      "\n",
      "There are more extensive resources for vision scientists on [our GestaltReVision wiki](http://gestaltrevision.be/wiki/python/python)."
     ]
    },
    {
     "cell_type": "heading",
     "level": 1,
     "metadata": {},
     "source": [
      "Contents"
     ]
    },
    {
     "cell_type": "markdown",
     "metadata": {},
     "source": [
      "1. [An introduction to Python](Part1/Part1_Intro_to_Python.ipynb)\n",
      "2. [Introduction to PsychoPy for creating experiments](Part2/Part2_PsychoPy.ipynb)\n",
      "3. [Transitioning from MATLAB to Python](Part3/Part3_Scientific_Python.ipynb)\n",
      "4. [More practice with PsychoPy](Part4/Part4_Practice_with_PsychoPy.ipynb)\n",
      "5. [Streamline research with psychopy_ext](Part5/Part5_psychopy_ext.ipynb)\n",
      "6. [Multi-voxel pattern analysis](Part6/Part6_MVPA.ipynb)"
     ]
    },
    {
     "cell_type": "heading",
     "level": 1,
     "metadata": {},
     "source": [
      "What you'll need"
     ]
    },
    {
     "cell_type": "markdown",
     "metadata": {},
     "source": [
      "Unfortunately, getting Python and all necessary packages is one of the major difficulties for beginners. So please be patient and try to get everything in order because once you get it running, magic can start."
     ]
    },
    {
     "cell_type": "heading",
     "level": 2,
     "metadata": {},
     "source": [
      "Python packages"
     ]
    },
    {
     "cell_type": "markdown",
     "metadata": {},
     "source": [
      "For complete beginners, a [Standalone PsychoPy installation](http://sourceforge.net/projects/psychpy/files/PsychoPy/) will be the easiest. However, if you want to be able to run this notebook on your machine, you'll be better off installing an alternate distribution, or installing all packages panually. See [our website](http://gestaltrevision.be/wiki/python/pythoninstall) or [PsychoPy's installation page](http://www.psychopy.org/installation.html) for more information.\n",
      "\n",
      "We also suggest to install [Spyder](https://code.google.com/p/spyderlib/) as a decent environment to code and run your experiments."
     ]
    },
    {
     "cell_type": "heading",
     "level": 2,
     "metadata": {},
     "source": [
      "Tutorial code"
     ]
    },
    {
     "cell_type": "markdown",
     "metadata": {},
     "source": [
      "All materials, including this notebook, are available [here](http://github.com/gestaltrevision/python_for_visres)."
     ]
    },
    {
     "cell_type": "heading",
     "level": 1,
     "metadata": {},
     "source": [
      "Checking your install"
     ]
    },
    {
     "cell_type": "markdown",
     "metadata": {},
     "source": [
      "Run the following cell to check whether your computer contains all needed packages. This will generate a txt output file which you can e-mail to us, should a problem arise. Press a key when asked to, and close the new IPython Notebook window that will be opened. If the cell keeps running for up to 10 seconds after closing the notebook, just wait; this is normal."
     ]
    },
    {
     "cell_type": "code",
     "collapsed": false,
     "input": [
      "import os\n",
      "\n",
      "os.system('python check_install.py')\n",
      "\n",
      "try:\n",
      "    f = open('workshop_req_check.txt','r')\n",
      "    for line in f.readlines():\n",
      "        print line\n",
      "    f.close()\n",
      "except IOError:\n",
      "    print 'The script could not be executed!'"
     ],
     "language": "python",
     "metadata": {},
     "outputs": [
      {
       "output_type": "stream",
       "stream": "stdout",
       "text": [
        "linux2\n",
        "\n",
        "['/home/mpjdem/python_for_visres', '/usr/lib/python2.7', '/usr/lib/python2.7/plat-x86_64-linux-gnu', '/usr/lib/python2.7/lib-tk', '/usr/lib/python2.7/lib-old', '/usr/lib/python2.7/lib-dynload', '/usr/local/lib/python2.7/dist-packages', '/usr/lib/python2.7/dist-packages', '/usr/lib/python2.7/dist-packages/PILcompat', '/usr/lib/python2.7/dist-packages/gtk-2.0', '/usr/lib/pymodules/python2.7', '/usr/lib/python2.7/dist-packages/wx-2.8-gtk2-unicode']\n",
        "\n",
        "\n",
        "\n",
        "===============================================================================\n",
        "\n",
        "MODULE CHECK\n",
        "\n",
        "\n",
        "\n",
        "    Python: base installation\n",
        "\n",
        "        OK\n",
        "\n",
        "    Spyder: IDE\n",
        "\n",
        "        OK\n",
        "\n",
        "    NumPy: numerical computing\n",
        "\n",
        "        OK\n",
        "\n",
        "    SciPy: scientific functions\n",
        "\n",
        "        OK\n",
        "\n",
        "    Matplotlib: plot graphs\n",
        "\n",
        "        OK\n",
        "\n",
        "    PsychoPy_ext: streamline research\n",
        "\n",
        "        OK\n",
        "\n",
        "    Seaborn: statistical data visualization\n",
        "\n",
        "        OK\n",
        "\n",
        "    Docutils: documentation utilities\n",
        "\n",
        "        OK\n",
        "\n",
        "    Svgwrite: create svg images\n",
        "\n",
        "        OK\n",
        "\n",
        "    Pandas: data analysis toolkit\n",
        "\n",
        "        OK\n",
        "\n",
        "    NiBabel: access neuroimaging files\n",
        "\n",
        "        OK\n",
        "\n",
        "    PyMVPA: fMRI MVPA package\n",
        "\n",
        "        OK\n",
        "\n",
        "    Pillow: handle images\n",
        "\n",
        "        OK\n",
        "\n",
        "    PsychoPy: build experiments\n",
        "\n",
        "/usr/local/lib/python2.7/dist-packages/psychopy/preferences/configobj.py:28: DeprecationWarning: The compiler package is deprecated and removed in Python 3.x.\n",
        "\n",
        "  import compiler\n",
        "\n",
        "\n",
        "\n",
        "*************************************************************\n",
        "\n",
        "*                                                           *\n",
        "\n",
        "* A new window will open. Please follow instructions on it. *\n",
        "\n",
        "*                                                           *\n",
        "\n",
        "*************************************************************\n",
        "\n",
        "\n",
        "\n",
        "/usr/lib/pymodules/python2.7/pyglet/image/codecs/pil.py:73: DeprecationWarning: tostring() is deprecated. Please call tobytes() instead.\n",
        "\n",
        "  return ImageData(width, height, image.mode, image.tostring())\n",
        "\n",
        "0.2792 \tWARNING \tCreating new monitor...\n",
        "\n",
        "0.2793 \tWARNING \tCreating new monitor...\n",
        "\n",
        "        OK\n",
        "\n",
        "    IPython: interactive notebooks\n",
        "\n",
        "\n",
        "\n",
        "*************************************************************\n",
        "\n",
        "*                                                           *\n",
        "\n",
        "* An IPython notebook should open in your browser.          *\n",
        "\n",
        "* Please wait for this test to finish. Do not hit Control-C *\n",
        "\n",
        "*                                                           *\n",
        "\n",
        "*************************************************************\n",
        "\n",
        "\n",
        "\n",
        "        OK\n",
        "\n",
        "\n",
        "\n",
        "===============================================================================\n",
        "\n",
        "HOW WELL ARE YOU PREPARED?\n",
        "\n",
        "\n",
        "\n",
        "Session: Introduction to Python\n",
        "\n",
        "    FULLY PREPARED\n",
        "\n",
        "\n",
        "\n",
        "Session: Introduction to PsychoPy\n",
        "\n",
        "    FULLY PREPARED\n",
        "\n",
        "\n",
        "\n",
        "Session: Transitioning from MATLAB to Python\n",
        "\n",
        "    FULLY PREPARED\n",
        "\n",
        "\n",
        "\n",
        "Session: More practice with PsychoPy\n",
        "\n",
        "    FULLY PREPARED\n",
        "\n",
        "\n",
        "\n",
        "Session: Streamline research with psychopy_ext\n",
        "\n",
        "    FULLY PREPARED\n",
        "\n",
        "\n",
        "\n",
        "Session: Natural image statistics\n",
        "\n",
        "    FULLY PREPARED\n",
        "\n",
        "\n",
        "\n",
        "Session: Multi-voxel pattern analysis\n",
        "\n",
        "    FULLY PREPARED\n",
        "\n",
        "\n",
        "\n",
        "===============================================================================\n",
        "\n",
        "WHAT TO DO NOW?\n",
        "\n",
        "\n",
        "\n",
        "1. Check in the list above how well you're prepared for the sessions\n",
        "\n",
        "   you signed up.\n",
        "\n",
        "2. Ideally, you should be fully prepared. Mostly prepared might\n",
        "\n",
        "   still suffice but not everything may work. Minimally prepared means\n",
        "\n",
        "   you will not be able to execute significant parts of the code.\n",
        "\n",
        "3. If you're underprepared, download and install missing packages,\n",
        "\n",
        "   and rerun this script. You may find information at\n",
        "\n",
        "   http://gestaltrevision.be/wiki/python/check_install useful.\n",
        "\n",
        "4. A file `workshop_req_check.txt` was generated in the same folder\n",
        "\n",
        "   where this script is. When ready, please **email** it to \n",
        "\n",
        "   <Maarten.Demeyer@ppw.kuleuven.be> so that we can verify that \n",
        "\n",
        "   you're ready for the workshop.\n",
        "\n",
        "\n",
        "\n",
        "===============================================================================\n",
        "\n",
        "\n",
        "\n"
       ]
      }
     ],
     "prompt_number": 12
    },
    {
     "cell_type": "heading",
     "level": 1,
     "metadata": {},
     "source": [
      "License"
     ]
    },
    {
     "cell_type": "markdown",
     "metadata": {},
     "source": [
      "**Authors:** Maarten Demeyer, [Jonas Kubilius](http://klab.lt)  \n",
      "**Year:** 2014  \n",
      "**Copyright:** Public Domain as in [CC0](https://creativecommons.org/publicdomain/zero/1.0/) (expect where noted otherwise). Feel free to reuse these materials for your teaching or any other purposes."
     ]
    }
   ],
   "metadata": {}
  }
 ]
}